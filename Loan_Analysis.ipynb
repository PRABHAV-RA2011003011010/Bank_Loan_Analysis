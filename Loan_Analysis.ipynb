{
 "cells": [
  {
   "cell_type": "code",
   "execution_count": 227,
   "id": "7e77371c",
   "metadata": {},
   "outputs": [],
   "source": [
    "\n",
    "import numpy as np\n",
    "import matplotlib.pyplot as plt\n",
    "import seaborn as sns"
   ]
  },
  {
   "cell_type": "markdown",
   "id": "22b618fe",
   "metadata": {},
   "source": [
    "# 1.Data_Collection"
   ]
  },
  {
   "cell_type": "code",
   "execution_count": 9,
   "id": "3afd788f",
   "metadata": {},
   "outputs": [
    {
     "data": {
      "text/html": [
       "<div>\n",
       "<style scoped>\n",
       "    .dataframe tbody tr th:only-of-type {\n",
       "        vertical-align: middle;\n",
       "    }\n",
       "\n",
       "    .dataframe tbody tr th {\n",
       "        vertical-align: top;\n",
       "    }\n",
       "\n",
       "    .dataframe thead th {\n",
       "        text-align: right;\n",
       "    }\n",
       "</style>\n",
       "<table border=\"1\" class=\"dataframe\">\n",
       "  <thead>\n",
       "    <tr style=\"text-align: right;\">\n",
       "      <th></th>\n",
       "      <th>loan_id</th>\n",
       "      <th>no_of_dependents</th>\n",
       "      <th>education</th>\n",
       "      <th>self_employed</th>\n",
       "      <th>employment_type</th>\n",
       "      <th>income_annum</th>\n",
       "      <th>loan_amount</th>\n",
       "      <th>loan_term</th>\n",
       "      <th>cibil_score</th>\n",
       "      <th>residential_assets_value</th>\n",
       "      <th>commercial_assets_value</th>\n",
       "      <th>luxury_assets_value</th>\n",
       "      <th>bank_asset_value</th>\n",
       "      <th>loan_status</th>\n",
       "    </tr>\n",
       "  </thead>\n",
       "  <tbody>\n",
       "    <tr>\n",
       "      <th>0</th>\n",
       "      <td>1</td>\n",
       "      <td>2</td>\n",
       "      <td>12th</td>\n",
       "      <td>No</td>\n",
       "      <td>Salaried</td>\n",
       "      <td>9600000</td>\n",
       "      <td>29900000</td>\n",
       "      <td>12</td>\n",
       "      <td>778</td>\n",
       "      <td>2400000</td>\n",
       "      <td>17600000</td>\n",
       "      <td>22700000</td>\n",
       "      <td>8000000</td>\n",
       "      <td>Approved</td>\n",
       "    </tr>\n",
       "    <tr>\n",
       "      <th>1</th>\n",
       "      <td>2</td>\n",
       "      <td>0</td>\n",
       "      <td>12th</td>\n",
       "      <td>No</td>\n",
       "      <td>Salaried</td>\n",
       "      <td>4100000</td>\n",
       "      <td>12200000</td>\n",
       "      <td>8</td>\n",
       "      <td>417</td>\n",
       "      <td>2700000</td>\n",
       "      <td>2200000</td>\n",
       "      <td>8800000</td>\n",
       "      <td>3300000</td>\n",
       "      <td>Rejected</td>\n",
       "    </tr>\n",
       "    <tr>\n",
       "      <th>2</th>\n",
       "      <td>3</td>\n",
       "      <td>3</td>\n",
       "      <td>8th</td>\n",
       "      <td>No</td>\n",
       "      <td>Salaried</td>\n",
       "      <td>9100000</td>\n",
       "      <td>29700000</td>\n",
       "      <td>20</td>\n",
       "      <td>506</td>\n",
       "      <td>7100000</td>\n",
       "      <td>4500000</td>\n",
       "      <td>33300000</td>\n",
       "      <td>12800000</td>\n",
       "      <td>Rejected</td>\n",
       "    </tr>\n",
       "    <tr>\n",
       "      <th>3</th>\n",
       "      <td>4</td>\n",
       "      <td>3</td>\n",
       "      <td>8th</td>\n",
       "      <td>No</td>\n",
       "      <td>Salaried</td>\n",
       "      <td>8200000</td>\n",
       "      <td>30700000</td>\n",
       "      <td>8</td>\n",
       "      <td>467</td>\n",
       "      <td>18200000</td>\n",
       "      <td>3300000</td>\n",
       "      <td>23300000</td>\n",
       "      <td>7900000</td>\n",
       "      <td>Rejected</td>\n",
       "    </tr>\n",
       "    <tr>\n",
       "      <th>4</th>\n",
       "      <td>5</td>\n",
       "      <td>5</td>\n",
       "      <td>Graduate</td>\n",
       "      <td>No</td>\n",
       "      <td>Salaried</td>\n",
       "      <td>9800000</td>\n",
       "      <td>24200000</td>\n",
       "      <td>20</td>\n",
       "      <td>382</td>\n",
       "      <td>12400000</td>\n",
       "      <td>8200000</td>\n",
       "      <td>29400000</td>\n",
       "      <td>5000000</td>\n",
       "      <td>Rejected</td>\n",
       "    </tr>\n",
       "    <tr>\n",
       "      <th>...</th>\n",
       "      <td>...</td>\n",
       "      <td>...</td>\n",
       "      <td>...</td>\n",
       "      <td>...</td>\n",
       "      <td>...</td>\n",
       "      <td>...</td>\n",
       "      <td>...</td>\n",
       "      <td>...</td>\n",
       "      <td>...</td>\n",
       "      <td>...</td>\n",
       "      <td>...</td>\n",
       "      <td>...</td>\n",
       "      <td>...</td>\n",
       "      <td>...</td>\n",
       "    </tr>\n",
       "    <tr>\n",
       "      <th>4264</th>\n",
       "      <td>4265</td>\n",
       "      <td>5</td>\n",
       "      <td>8th</td>\n",
       "      <td>Yes</td>\n",
       "      <td>Business</td>\n",
       "      <td>1000000</td>\n",
       "      <td>2300000</td>\n",
       "      <td>12</td>\n",
       "      <td>317</td>\n",
       "      <td>2800000</td>\n",
       "      <td>500000</td>\n",
       "      <td>3300000</td>\n",
       "      <td>800000</td>\n",
       "      <td>Rejected</td>\n",
       "    </tr>\n",
       "    <tr>\n",
       "      <th>4265</th>\n",
       "      <td>4266</td>\n",
       "      <td>0</td>\n",
       "      <td>8th</td>\n",
       "      <td>Yes</td>\n",
       "      <td>Business</td>\n",
       "      <td>3300000</td>\n",
       "      <td>11300000</td>\n",
       "      <td>20</td>\n",
       "      <td>559</td>\n",
       "      <td>4200000</td>\n",
       "      <td>2900000</td>\n",
       "      <td>11000000</td>\n",
       "      <td>1900000</td>\n",
       "      <td>Approved</td>\n",
       "    </tr>\n",
       "    <tr>\n",
       "      <th>4266</th>\n",
       "      <td>4267</td>\n",
       "      <td>2</td>\n",
       "      <td>8th</td>\n",
       "      <td>Yes</td>\n",
       "      <td>Business</td>\n",
       "      <td>6500000</td>\n",
       "      <td>23900000</td>\n",
       "      <td>18</td>\n",
       "      <td>457</td>\n",
       "      <td>1200000</td>\n",
       "      <td>12400000</td>\n",
       "      <td>18100000</td>\n",
       "      <td>7300000</td>\n",
       "      <td>Rejected</td>\n",
       "    </tr>\n",
       "    <tr>\n",
       "      <th>4267</th>\n",
       "      <td>4268</td>\n",
       "      <td>1</td>\n",
       "      <td>Graduate</td>\n",
       "      <td>No</td>\n",
       "      <td>Salaried</td>\n",
       "      <td>4100000</td>\n",
       "      <td>12800000</td>\n",
       "      <td>8</td>\n",
       "      <td>780</td>\n",
       "      <td>8200000</td>\n",
       "      <td>700000</td>\n",
       "      <td>14100000</td>\n",
       "      <td>5800000</td>\n",
       "      <td>Approved</td>\n",
       "    </tr>\n",
       "    <tr>\n",
       "      <th>4268</th>\n",
       "      <td>4269</td>\n",
       "      <td>1</td>\n",
       "      <td>10th</td>\n",
       "      <td>Yes</td>\n",
       "      <td>Business</td>\n",
       "      <td>9200000</td>\n",
       "      <td>29700000</td>\n",
       "      <td>10</td>\n",
       "      <td>607</td>\n",
       "      <td>17800000</td>\n",
       "      <td>11800000</td>\n",
       "      <td>35700000</td>\n",
       "      <td>12000000</td>\n",
       "      <td>Approved</td>\n",
       "    </tr>\n",
       "  </tbody>\n",
       "</table>\n",
       "<p>4269 rows × 14 columns</p>\n",
       "</div>"
      ],
      "text/plain": [
       "      loan_id  no_of_dependents education self_employed employment_type  \\\n",
       "0           1                 2      12th            No        Salaried   \n",
       "1           2                 0      12th            No        Salaried   \n",
       "2           3                 3       8th            No        Salaried   \n",
       "3           4                 3       8th            No        Salaried   \n",
       "4           5                 5  Graduate            No        Salaried   \n",
       "...       ...               ...       ...           ...             ...   \n",
       "4264     4265                 5       8th           Yes        Business   \n",
       "4265     4266                 0       8th           Yes        Business   \n",
       "4266     4267                 2       8th           Yes        Business   \n",
       "4267     4268                 1  Graduate            No        Salaried   \n",
       "4268     4269                 1      10th           Yes        Business   \n",
       "\n",
       "      income_annum  loan_amount  loan_term  cibil_score  \\\n",
       "0          9600000     29900000         12          778   \n",
       "1          4100000     12200000          8          417   \n",
       "2          9100000     29700000         20          506   \n",
       "3          8200000     30700000          8          467   \n",
       "4          9800000     24200000         20          382   \n",
       "...            ...          ...        ...          ...   \n",
       "4264       1000000      2300000         12          317   \n",
       "4265       3300000     11300000         20          559   \n",
       "4266       6500000     23900000         18          457   \n",
       "4267       4100000     12800000          8          780   \n",
       "4268       9200000     29700000         10          607   \n",
       "\n",
       "      residential_assets_value  commercial_assets_value  luxury_assets_value  \\\n",
       "0                      2400000                 17600000             22700000   \n",
       "1                      2700000                  2200000              8800000   \n",
       "2                      7100000                  4500000             33300000   \n",
       "3                     18200000                  3300000             23300000   \n",
       "4                     12400000                  8200000             29400000   \n",
       "...                        ...                      ...                  ...   \n",
       "4264                   2800000                   500000              3300000   \n",
       "4265                   4200000                  2900000             11000000   \n",
       "4266                   1200000                 12400000             18100000   \n",
       "4267                   8200000                   700000             14100000   \n",
       "4268                  17800000                 11800000             35700000   \n",
       "\n",
       "      bank_asset_value loan_status  \n",
       "0              8000000    Approved  \n",
       "1              3300000    Rejected  \n",
       "2             12800000    Rejected  \n",
       "3              7900000    Rejected  \n",
       "4              5000000    Rejected  \n",
       "...                ...         ...  \n",
       "4264            800000    Rejected  \n",
       "4265           1900000    Approved  \n",
       "4266           7300000    Rejected  \n",
       "4267           5800000    Approved  \n",
       "4268          12000000    Approved  \n",
       "\n",
       "[4269 rows x 14 columns]"
      ]
     },
     "execution_count": 9,
     "metadata": {},
     "output_type": "execute_result"
    }
   ],
   "source": [
    "loan_data=pd.read_csv('loan_approval_data.csv')\n",
    "loan_data"
   ]
  },
  {
   "cell_type": "code",
   "execution_count": 21,
   "id": "cce72407",
   "metadata": {},
   "outputs": [
    {
     "data": {
      "text/html": [
       "<div>\n",
       "<style scoped>\n",
       "    .dataframe tbody tr th:only-of-type {\n",
       "        vertical-align: middle;\n",
       "    }\n",
       "\n",
       "    .dataframe tbody tr th {\n",
       "        vertical-align: top;\n",
       "    }\n",
       "\n",
       "    .dataframe thead th {\n",
       "        text-align: right;\n",
       "    }\n",
       "</style>\n",
       "<table border=\"1\" class=\"dataframe\">\n",
       "  <thead>\n",
       "    <tr style=\"text-align: right;\">\n",
       "      <th></th>\n",
       "      <th>income_annum</th>\n",
       "      <th>loan_amount</th>\n",
       "      <th>loan_term</th>\n",
       "      <th>cibil_score</th>\n",
       "      <th>residential_assets_value</th>\n",
       "      <th>commercial_assets_value</th>\n",
       "      <th>luxury_assets_value</th>\n",
       "      <th>bank_asset_value</th>\n",
       "    </tr>\n",
       "  </thead>\n",
       "  <tbody>\n",
       "    <tr>\n",
       "      <th>0</th>\n",
       "      <td>9600000</td>\n",
       "      <td>29900000</td>\n",
       "      <td>12</td>\n",
       "      <td>778</td>\n",
       "      <td>2400000</td>\n",
       "      <td>17600000</td>\n",
       "      <td>22700000</td>\n",
       "      <td>8000000</td>\n",
       "    </tr>\n",
       "    <tr>\n",
       "      <th>1</th>\n",
       "      <td>4100000</td>\n",
       "      <td>12200000</td>\n",
       "      <td>8</td>\n",
       "      <td>417</td>\n",
       "      <td>2700000</td>\n",
       "      <td>2200000</td>\n",
       "      <td>8800000</td>\n",
       "      <td>3300000</td>\n",
       "    </tr>\n",
       "    <tr>\n",
       "      <th>2</th>\n",
       "      <td>9100000</td>\n",
       "      <td>29700000</td>\n",
       "      <td>20</td>\n",
       "      <td>506</td>\n",
       "      <td>7100000</td>\n",
       "      <td>4500000</td>\n",
       "      <td>33300000</td>\n",
       "      <td>12800000</td>\n",
       "    </tr>\n",
       "    <tr>\n",
       "      <th>3</th>\n",
       "      <td>8200000</td>\n",
       "      <td>30700000</td>\n",
       "      <td>8</td>\n",
       "      <td>467</td>\n",
       "      <td>18200000</td>\n",
       "      <td>3300000</td>\n",
       "      <td>23300000</td>\n",
       "      <td>7900000</td>\n",
       "    </tr>\n",
       "    <tr>\n",
       "      <th>4</th>\n",
       "      <td>9800000</td>\n",
       "      <td>24200000</td>\n",
       "      <td>20</td>\n",
       "      <td>382</td>\n",
       "      <td>12400000</td>\n",
       "      <td>8200000</td>\n",
       "      <td>29400000</td>\n",
       "      <td>5000000</td>\n",
       "    </tr>\n",
       "    <tr>\n",
       "      <th>...</th>\n",
       "      <td>...</td>\n",
       "      <td>...</td>\n",
       "      <td>...</td>\n",
       "      <td>...</td>\n",
       "      <td>...</td>\n",
       "      <td>...</td>\n",
       "      <td>...</td>\n",
       "      <td>...</td>\n",
       "    </tr>\n",
       "    <tr>\n",
       "      <th>4264</th>\n",
       "      <td>1000000</td>\n",
       "      <td>2300000</td>\n",
       "      <td>12</td>\n",
       "      <td>317</td>\n",
       "      <td>2800000</td>\n",
       "      <td>500000</td>\n",
       "      <td>3300000</td>\n",
       "      <td>800000</td>\n",
       "    </tr>\n",
       "    <tr>\n",
       "      <th>4265</th>\n",
       "      <td>3300000</td>\n",
       "      <td>11300000</td>\n",
       "      <td>20</td>\n",
       "      <td>559</td>\n",
       "      <td>4200000</td>\n",
       "      <td>2900000</td>\n",
       "      <td>11000000</td>\n",
       "      <td>1900000</td>\n",
       "    </tr>\n",
       "    <tr>\n",
       "      <th>4266</th>\n",
       "      <td>6500000</td>\n",
       "      <td>23900000</td>\n",
       "      <td>18</td>\n",
       "      <td>457</td>\n",
       "      <td>1200000</td>\n",
       "      <td>12400000</td>\n",
       "      <td>18100000</td>\n",
       "      <td>7300000</td>\n",
       "    </tr>\n",
       "    <tr>\n",
       "      <th>4267</th>\n",
       "      <td>4100000</td>\n",
       "      <td>12800000</td>\n",
       "      <td>8</td>\n",
       "      <td>780</td>\n",
       "      <td>8200000</td>\n",
       "      <td>700000</td>\n",
       "      <td>14100000</td>\n",
       "      <td>5800000</td>\n",
       "    </tr>\n",
       "    <tr>\n",
       "      <th>4268</th>\n",
       "      <td>9200000</td>\n",
       "      <td>29700000</td>\n",
       "      <td>10</td>\n",
       "      <td>607</td>\n",
       "      <td>17800000</td>\n",
       "      <td>11800000</td>\n",
       "      <td>35700000</td>\n",
       "      <td>12000000</td>\n",
       "    </tr>\n",
       "  </tbody>\n",
       "</table>\n",
       "<p>4269 rows × 8 columns</p>\n",
       "</div>"
      ],
      "text/plain": [
       "      income_annum  loan_amount  loan_term  cibil_score  \\\n",
       "0          9600000     29900000         12          778   \n",
       "1          4100000     12200000          8          417   \n",
       "2          9100000     29700000         20          506   \n",
       "3          8200000     30700000          8          467   \n",
       "4          9800000     24200000         20          382   \n",
       "...            ...          ...        ...          ...   \n",
       "4264       1000000      2300000         12          317   \n",
       "4265       3300000     11300000         20          559   \n",
       "4266       6500000     23900000         18          457   \n",
       "4267       4100000     12800000          8          780   \n",
       "4268       9200000     29700000         10          607   \n",
       "\n",
       "      residential_assets_value  commercial_assets_value  luxury_assets_value  \\\n",
       "0                      2400000                 17600000             22700000   \n",
       "1                      2700000                  2200000              8800000   \n",
       "2                      7100000                  4500000             33300000   \n",
       "3                     18200000                  3300000             23300000   \n",
       "4                     12400000                  8200000             29400000   \n",
       "...                        ...                      ...                  ...   \n",
       "4264                   2800000                   500000              3300000   \n",
       "4265                   4200000                  2900000             11000000   \n",
       "4266                   1200000                 12400000             18100000   \n",
       "4267                   8200000                   700000             14100000   \n",
       "4268                  17800000                 11800000             35700000   \n",
       "\n",
       "      bank_asset_value  \n",
       "0              8000000  \n",
       "1              3300000  \n",
       "2             12800000  \n",
       "3              7900000  \n",
       "4              5000000  \n",
       "...                ...  \n",
       "4264            800000  \n",
       "4265           1900000  \n",
       "4266           7300000  \n",
       "4267           5800000  \n",
       "4268          12000000  \n",
       "\n",
       "[4269 rows x 8 columns]"
      ]
     },
     "execution_count": 21,
     "metadata": {},
     "output_type": "execute_result"
    }
   ],
   "source": [
    "data=loan_data[['income_annum','loan_amount','loan_term','cibil_score','residential_assets_value','commercial_assets_value','luxury_assets_value','bank_asset_value']]\n",
    "data"
   ]
  },
  {
   "cell_type": "code",
   "execution_count": 22,
   "id": "b77085f4",
   "metadata": {},
   "outputs": [
    {
     "name": "stderr",
     "output_type": "stream",
     "text": [
      "C:\\TEMP\\ipykernel_5764\\546155146.py:1: SettingWithCopyWarning: \n",
      "A value is trying to be set on a copy of a slice from a DataFrame.\n",
      "Try using .loc[row_indexer,col_indexer] = value instead\n",
      "\n",
      "See the caveats in the documentation: https://pandas.pydata.org/pandas-docs/stable/user_guide/indexing.html#returning-a-view-versus-a-copy\n",
      "  data['total_assets']=data['residential_assets_value']+data['commercial_assets_value']+data['luxury_assets_value']+data['bank_asset_value']\n"
     ]
    },
    {
     "data": {
      "text/html": [
       "<div>\n",
       "<style scoped>\n",
       "    .dataframe tbody tr th:only-of-type {\n",
       "        vertical-align: middle;\n",
       "    }\n",
       "\n",
       "    .dataframe tbody tr th {\n",
       "        vertical-align: top;\n",
       "    }\n",
       "\n",
       "    .dataframe thead th {\n",
       "        text-align: right;\n",
       "    }\n",
       "</style>\n",
       "<table border=\"1\" class=\"dataframe\">\n",
       "  <thead>\n",
       "    <tr style=\"text-align: right;\">\n",
       "      <th></th>\n",
       "      <th>income_annum</th>\n",
       "      <th>loan_amount</th>\n",
       "      <th>loan_term</th>\n",
       "      <th>cibil_score</th>\n",
       "      <th>residential_assets_value</th>\n",
       "      <th>commercial_assets_value</th>\n",
       "      <th>luxury_assets_value</th>\n",
       "      <th>bank_asset_value</th>\n",
       "      <th>total_assets</th>\n",
       "    </tr>\n",
       "  </thead>\n",
       "  <tbody>\n",
       "    <tr>\n",
       "      <th>0</th>\n",
       "      <td>9600000</td>\n",
       "      <td>29900000</td>\n",
       "      <td>12</td>\n",
       "      <td>778</td>\n",
       "      <td>2400000</td>\n",
       "      <td>17600000</td>\n",
       "      <td>22700000</td>\n",
       "      <td>8000000</td>\n",
       "      <td>50700000</td>\n",
       "    </tr>\n",
       "    <tr>\n",
       "      <th>1</th>\n",
       "      <td>4100000</td>\n",
       "      <td>12200000</td>\n",
       "      <td>8</td>\n",
       "      <td>417</td>\n",
       "      <td>2700000</td>\n",
       "      <td>2200000</td>\n",
       "      <td>8800000</td>\n",
       "      <td>3300000</td>\n",
       "      <td>17000000</td>\n",
       "    </tr>\n",
       "    <tr>\n",
       "      <th>2</th>\n",
       "      <td>9100000</td>\n",
       "      <td>29700000</td>\n",
       "      <td>20</td>\n",
       "      <td>506</td>\n",
       "      <td>7100000</td>\n",
       "      <td>4500000</td>\n",
       "      <td>33300000</td>\n",
       "      <td>12800000</td>\n",
       "      <td>57700000</td>\n",
       "    </tr>\n",
       "    <tr>\n",
       "      <th>3</th>\n",
       "      <td>8200000</td>\n",
       "      <td>30700000</td>\n",
       "      <td>8</td>\n",
       "      <td>467</td>\n",
       "      <td>18200000</td>\n",
       "      <td>3300000</td>\n",
       "      <td>23300000</td>\n",
       "      <td>7900000</td>\n",
       "      <td>52700000</td>\n",
       "    </tr>\n",
       "    <tr>\n",
       "      <th>4</th>\n",
       "      <td>9800000</td>\n",
       "      <td>24200000</td>\n",
       "      <td>20</td>\n",
       "      <td>382</td>\n",
       "      <td>12400000</td>\n",
       "      <td>8200000</td>\n",
       "      <td>29400000</td>\n",
       "      <td>5000000</td>\n",
       "      <td>55000000</td>\n",
       "    </tr>\n",
       "    <tr>\n",
       "      <th>...</th>\n",
       "      <td>...</td>\n",
       "      <td>...</td>\n",
       "      <td>...</td>\n",
       "      <td>...</td>\n",
       "      <td>...</td>\n",
       "      <td>...</td>\n",
       "      <td>...</td>\n",
       "      <td>...</td>\n",
       "      <td>...</td>\n",
       "    </tr>\n",
       "    <tr>\n",
       "      <th>4264</th>\n",
       "      <td>1000000</td>\n",
       "      <td>2300000</td>\n",
       "      <td>12</td>\n",
       "      <td>317</td>\n",
       "      <td>2800000</td>\n",
       "      <td>500000</td>\n",
       "      <td>3300000</td>\n",
       "      <td>800000</td>\n",
       "      <td>7400000</td>\n",
       "    </tr>\n",
       "    <tr>\n",
       "      <th>4265</th>\n",
       "      <td>3300000</td>\n",
       "      <td>11300000</td>\n",
       "      <td>20</td>\n",
       "      <td>559</td>\n",
       "      <td>4200000</td>\n",
       "      <td>2900000</td>\n",
       "      <td>11000000</td>\n",
       "      <td>1900000</td>\n",
       "      <td>20000000</td>\n",
       "    </tr>\n",
       "    <tr>\n",
       "      <th>4266</th>\n",
       "      <td>6500000</td>\n",
       "      <td>23900000</td>\n",
       "      <td>18</td>\n",
       "      <td>457</td>\n",
       "      <td>1200000</td>\n",
       "      <td>12400000</td>\n",
       "      <td>18100000</td>\n",
       "      <td>7300000</td>\n",
       "      <td>39000000</td>\n",
       "    </tr>\n",
       "    <tr>\n",
       "      <th>4267</th>\n",
       "      <td>4100000</td>\n",
       "      <td>12800000</td>\n",
       "      <td>8</td>\n",
       "      <td>780</td>\n",
       "      <td>8200000</td>\n",
       "      <td>700000</td>\n",
       "      <td>14100000</td>\n",
       "      <td>5800000</td>\n",
       "      <td>28800000</td>\n",
       "    </tr>\n",
       "    <tr>\n",
       "      <th>4268</th>\n",
       "      <td>9200000</td>\n",
       "      <td>29700000</td>\n",
       "      <td>10</td>\n",
       "      <td>607</td>\n",
       "      <td>17800000</td>\n",
       "      <td>11800000</td>\n",
       "      <td>35700000</td>\n",
       "      <td>12000000</td>\n",
       "      <td>77300000</td>\n",
       "    </tr>\n",
       "  </tbody>\n",
       "</table>\n",
       "<p>4269 rows × 9 columns</p>\n",
       "</div>"
      ],
      "text/plain": [
       "      income_annum  loan_amount  loan_term  cibil_score  \\\n",
       "0          9600000     29900000         12          778   \n",
       "1          4100000     12200000          8          417   \n",
       "2          9100000     29700000         20          506   \n",
       "3          8200000     30700000          8          467   \n",
       "4          9800000     24200000         20          382   \n",
       "...            ...          ...        ...          ...   \n",
       "4264       1000000      2300000         12          317   \n",
       "4265       3300000     11300000         20          559   \n",
       "4266       6500000     23900000         18          457   \n",
       "4267       4100000     12800000          8          780   \n",
       "4268       9200000     29700000         10          607   \n",
       "\n",
       "      residential_assets_value  commercial_assets_value  luxury_assets_value  \\\n",
       "0                      2400000                 17600000             22700000   \n",
       "1                      2700000                  2200000              8800000   \n",
       "2                      7100000                  4500000             33300000   \n",
       "3                     18200000                  3300000             23300000   \n",
       "4                     12400000                  8200000             29400000   \n",
       "...                        ...                      ...                  ...   \n",
       "4264                   2800000                   500000              3300000   \n",
       "4265                   4200000                  2900000             11000000   \n",
       "4266                   1200000                 12400000             18100000   \n",
       "4267                   8200000                   700000             14100000   \n",
       "4268                  17800000                 11800000             35700000   \n",
       "\n",
       "      bank_asset_value  total_assets  \n",
       "0              8000000      50700000  \n",
       "1              3300000      17000000  \n",
       "2             12800000      57700000  \n",
       "3              7900000      52700000  \n",
       "4              5000000      55000000  \n",
       "...                ...           ...  \n",
       "4264            800000       7400000  \n",
       "4265           1900000      20000000  \n",
       "4266           7300000      39000000  \n",
       "4267           5800000      28800000  \n",
       "4268          12000000      77300000  \n",
       "\n",
       "[4269 rows x 9 columns]"
      ]
     },
     "execution_count": 22,
     "metadata": {},
     "output_type": "execute_result"
    }
   ],
   "source": [
    "data['total_assets']=data['residential_assets_value']+data['commercial_assets_value']+data['luxury_assets_value']+data['bank_asset_value']\n",
    "data"
   ]
  },
  {
   "cell_type": "code",
   "execution_count": 23,
   "id": "3a40b8a9",
   "metadata": {},
   "outputs": [],
   "source": [
    "data=data.drop(columns=['residential_assets_value','commercial_assets_value','luxury_assets_value','bank_asset_value'])"
   ]
  },
  {
   "cell_type": "code",
   "execution_count": 24,
   "id": "8dd9a7ba",
   "metadata": {},
   "outputs": [
    {
     "data": {
      "text/html": [
       "<div>\n",
       "<style scoped>\n",
       "    .dataframe tbody tr th:only-of-type {\n",
       "        vertical-align: middle;\n",
       "    }\n",
       "\n",
       "    .dataframe tbody tr th {\n",
       "        vertical-align: top;\n",
       "    }\n",
       "\n",
       "    .dataframe thead th {\n",
       "        text-align: right;\n",
       "    }\n",
       "</style>\n",
       "<table border=\"1\" class=\"dataframe\">\n",
       "  <thead>\n",
       "    <tr style=\"text-align: right;\">\n",
       "      <th></th>\n",
       "      <th>income_annum</th>\n",
       "      <th>loan_amount</th>\n",
       "      <th>loan_term</th>\n",
       "      <th>cibil_score</th>\n",
       "      <th>total_assets</th>\n",
       "    </tr>\n",
       "  </thead>\n",
       "  <tbody>\n",
       "    <tr>\n",
       "      <th>0</th>\n",
       "      <td>9600000</td>\n",
       "      <td>29900000</td>\n",
       "      <td>12</td>\n",
       "      <td>778</td>\n",
       "      <td>50700000</td>\n",
       "    </tr>\n",
       "    <tr>\n",
       "      <th>1</th>\n",
       "      <td>4100000</td>\n",
       "      <td>12200000</td>\n",
       "      <td>8</td>\n",
       "      <td>417</td>\n",
       "      <td>17000000</td>\n",
       "    </tr>\n",
       "    <tr>\n",
       "      <th>2</th>\n",
       "      <td>9100000</td>\n",
       "      <td>29700000</td>\n",
       "      <td>20</td>\n",
       "      <td>506</td>\n",
       "      <td>57700000</td>\n",
       "    </tr>\n",
       "    <tr>\n",
       "      <th>3</th>\n",
       "      <td>8200000</td>\n",
       "      <td>30700000</td>\n",
       "      <td>8</td>\n",
       "      <td>467</td>\n",
       "      <td>52700000</td>\n",
       "    </tr>\n",
       "    <tr>\n",
       "      <th>4</th>\n",
       "      <td>9800000</td>\n",
       "      <td>24200000</td>\n",
       "      <td>20</td>\n",
       "      <td>382</td>\n",
       "      <td>55000000</td>\n",
       "    </tr>\n",
       "    <tr>\n",
       "      <th>...</th>\n",
       "      <td>...</td>\n",
       "      <td>...</td>\n",
       "      <td>...</td>\n",
       "      <td>...</td>\n",
       "      <td>...</td>\n",
       "    </tr>\n",
       "    <tr>\n",
       "      <th>4264</th>\n",
       "      <td>1000000</td>\n",
       "      <td>2300000</td>\n",
       "      <td>12</td>\n",
       "      <td>317</td>\n",
       "      <td>7400000</td>\n",
       "    </tr>\n",
       "    <tr>\n",
       "      <th>4265</th>\n",
       "      <td>3300000</td>\n",
       "      <td>11300000</td>\n",
       "      <td>20</td>\n",
       "      <td>559</td>\n",
       "      <td>20000000</td>\n",
       "    </tr>\n",
       "    <tr>\n",
       "      <th>4266</th>\n",
       "      <td>6500000</td>\n",
       "      <td>23900000</td>\n",
       "      <td>18</td>\n",
       "      <td>457</td>\n",
       "      <td>39000000</td>\n",
       "    </tr>\n",
       "    <tr>\n",
       "      <th>4267</th>\n",
       "      <td>4100000</td>\n",
       "      <td>12800000</td>\n",
       "      <td>8</td>\n",
       "      <td>780</td>\n",
       "      <td>28800000</td>\n",
       "    </tr>\n",
       "    <tr>\n",
       "      <th>4268</th>\n",
       "      <td>9200000</td>\n",
       "      <td>29700000</td>\n",
       "      <td>10</td>\n",
       "      <td>607</td>\n",
       "      <td>77300000</td>\n",
       "    </tr>\n",
       "  </tbody>\n",
       "</table>\n",
       "<p>4269 rows × 5 columns</p>\n",
       "</div>"
      ],
      "text/plain": [
       "      income_annum  loan_amount  loan_term  cibil_score  total_assets\n",
       "0          9600000     29900000         12          778      50700000\n",
       "1          4100000     12200000          8          417      17000000\n",
       "2          9100000     29700000         20          506      57700000\n",
       "3          8200000     30700000          8          467      52700000\n",
       "4          9800000     24200000         20          382      55000000\n",
       "...            ...          ...        ...          ...           ...\n",
       "4264       1000000      2300000         12          317       7400000\n",
       "4265       3300000     11300000         20          559      20000000\n",
       "4266       6500000     23900000         18          457      39000000\n",
       "4267       4100000     12800000          8          780      28800000\n",
       "4268       9200000     29700000         10          607      77300000\n",
       "\n",
       "[4269 rows x 5 columns]"
      ]
     },
     "execution_count": 24,
     "metadata": {},
     "output_type": "execute_result"
    }
   ],
   "source": [
    "data\n"
   ]
  },
  {
   "cell_type": "code",
   "execution_count": 25,
   "id": "80d390a8",
   "metadata": {},
   "outputs": [
    {
     "data": {
      "text/html": [
       "<div>\n",
       "<style scoped>\n",
       "    .dataframe tbody tr th:only-of-type {\n",
       "        vertical-align: middle;\n",
       "    }\n",
       "\n",
       "    .dataframe tbody tr th {\n",
       "        vertical-align: top;\n",
       "    }\n",
       "\n",
       "    .dataframe thead th {\n",
       "        text-align: right;\n",
       "    }\n",
       "</style>\n",
       "<table border=\"1\" class=\"dataframe\">\n",
       "  <thead>\n",
       "    <tr style=\"text-align: right;\">\n",
       "      <th></th>\n",
       "      <th>income_annum</th>\n",
       "      <th>loan_amount</th>\n",
       "      <th>loan_term</th>\n",
       "      <th>cibil_score</th>\n",
       "      <th>total_assets</th>\n",
       "      <th>loan_status</th>\n",
       "    </tr>\n",
       "  </thead>\n",
       "  <tbody>\n",
       "    <tr>\n",
       "      <th>0</th>\n",
       "      <td>9600000</td>\n",
       "      <td>29900000</td>\n",
       "      <td>12</td>\n",
       "      <td>778</td>\n",
       "      <td>50700000</td>\n",
       "      <td>Approved</td>\n",
       "    </tr>\n",
       "    <tr>\n",
       "      <th>1</th>\n",
       "      <td>4100000</td>\n",
       "      <td>12200000</td>\n",
       "      <td>8</td>\n",
       "      <td>417</td>\n",
       "      <td>17000000</td>\n",
       "      <td>Rejected</td>\n",
       "    </tr>\n",
       "    <tr>\n",
       "      <th>2</th>\n",
       "      <td>9100000</td>\n",
       "      <td>29700000</td>\n",
       "      <td>20</td>\n",
       "      <td>506</td>\n",
       "      <td>57700000</td>\n",
       "      <td>Rejected</td>\n",
       "    </tr>\n",
       "    <tr>\n",
       "      <th>3</th>\n",
       "      <td>8200000</td>\n",
       "      <td>30700000</td>\n",
       "      <td>8</td>\n",
       "      <td>467</td>\n",
       "      <td>52700000</td>\n",
       "      <td>Rejected</td>\n",
       "    </tr>\n",
       "    <tr>\n",
       "      <th>4</th>\n",
       "      <td>9800000</td>\n",
       "      <td>24200000</td>\n",
       "      <td>20</td>\n",
       "      <td>382</td>\n",
       "      <td>55000000</td>\n",
       "      <td>Rejected</td>\n",
       "    </tr>\n",
       "    <tr>\n",
       "      <th>...</th>\n",
       "      <td>...</td>\n",
       "      <td>...</td>\n",
       "      <td>...</td>\n",
       "      <td>...</td>\n",
       "      <td>...</td>\n",
       "      <td>...</td>\n",
       "    </tr>\n",
       "    <tr>\n",
       "      <th>4264</th>\n",
       "      <td>1000000</td>\n",
       "      <td>2300000</td>\n",
       "      <td>12</td>\n",
       "      <td>317</td>\n",
       "      <td>7400000</td>\n",
       "      <td>Rejected</td>\n",
       "    </tr>\n",
       "    <tr>\n",
       "      <th>4265</th>\n",
       "      <td>3300000</td>\n",
       "      <td>11300000</td>\n",
       "      <td>20</td>\n",
       "      <td>559</td>\n",
       "      <td>20000000</td>\n",
       "      <td>Approved</td>\n",
       "    </tr>\n",
       "    <tr>\n",
       "      <th>4266</th>\n",
       "      <td>6500000</td>\n",
       "      <td>23900000</td>\n",
       "      <td>18</td>\n",
       "      <td>457</td>\n",
       "      <td>39000000</td>\n",
       "      <td>Rejected</td>\n",
       "    </tr>\n",
       "    <tr>\n",
       "      <th>4267</th>\n",
       "      <td>4100000</td>\n",
       "      <td>12800000</td>\n",
       "      <td>8</td>\n",
       "      <td>780</td>\n",
       "      <td>28800000</td>\n",
       "      <td>Approved</td>\n",
       "    </tr>\n",
       "    <tr>\n",
       "      <th>4268</th>\n",
       "      <td>9200000</td>\n",
       "      <td>29700000</td>\n",
       "      <td>10</td>\n",
       "      <td>607</td>\n",
       "      <td>77300000</td>\n",
       "      <td>Approved</td>\n",
       "    </tr>\n",
       "  </tbody>\n",
       "</table>\n",
       "<p>4269 rows × 6 columns</p>\n",
       "</div>"
      ],
      "text/plain": [
       "      income_annum  loan_amount  loan_term  cibil_score  total_assets  \\\n",
       "0          9600000     29900000         12          778      50700000   \n",
       "1          4100000     12200000          8          417      17000000   \n",
       "2          9100000     29700000         20          506      57700000   \n",
       "3          8200000     30700000          8          467      52700000   \n",
       "4          9800000     24200000         20          382      55000000   \n",
       "...            ...          ...        ...          ...           ...   \n",
       "4264       1000000      2300000         12          317       7400000   \n",
       "4265       3300000     11300000         20          559      20000000   \n",
       "4266       6500000     23900000         18          457      39000000   \n",
       "4267       4100000     12800000          8          780      28800000   \n",
       "4268       9200000     29700000         10          607      77300000   \n",
       "\n",
       "     loan_status  \n",
       "0       Approved  \n",
       "1       Rejected  \n",
       "2       Rejected  \n",
       "3       Rejected  \n",
       "4       Rejected  \n",
       "...          ...  \n",
       "4264    Rejected  \n",
       "4265    Approved  \n",
       "4266    Rejected  \n",
       "4267    Approved  \n",
       "4268    Approved  \n",
       "\n",
       "[4269 rows x 6 columns]"
      ]
     },
     "execution_count": 25,
     "metadata": {},
     "output_type": "execute_result"
    }
   ],
   "source": [
    "data['loan_status']=loan_data['loan_status']\n",
    "data"
   ]
  },
  {
   "cell_type": "markdown",
   "id": "27f3c169",
   "metadata": {},
   "source": [
    "# 2.Data_Preprosessing"
   ]
  },
  {
   "cell_type": "code",
   "execution_count": 26,
   "id": "058a8218",
   "metadata": {},
   "outputs": [
    {
     "data": {
      "text/plain": [
       "income_annum    0\n",
       "loan_amount     0\n",
       "loan_term       0\n",
       "cibil_score     0\n",
       "total_assets    0\n",
       "loan_status     0\n",
       "dtype: int64"
      ]
     },
     "execution_count": 26,
     "metadata": {},
     "output_type": "execute_result"
    }
   ],
   "source": [
    "data.isnull().sum()"
   ]
  },
  {
   "cell_type": "code",
   "execution_count": 30,
   "id": "2ab18e45",
   "metadata": {},
   "outputs": [
    {
     "data": {
      "text/plain": [
       "0"
      ]
     },
     "execution_count": 30,
     "metadata": {},
     "output_type": "execute_result"
    }
   ],
   "source": [
    "data.duplicated().sum()"
   ]
  },
  {
   "cell_type": "code",
   "execution_count": 31,
   "id": "d02673dd",
   "metadata": {},
   "outputs": [
    {
     "data": {
      "text/html": [
       "<div>\n",
       "<style scoped>\n",
       "    .dataframe tbody tr th:only-of-type {\n",
       "        vertical-align: middle;\n",
       "    }\n",
       "\n",
       "    .dataframe tbody tr th {\n",
       "        vertical-align: top;\n",
       "    }\n",
       "\n",
       "    .dataframe thead th {\n",
       "        text-align: right;\n",
       "    }\n",
       "</style>\n",
       "<table border=\"1\" class=\"dataframe\">\n",
       "  <thead>\n",
       "    <tr style=\"text-align: right;\">\n",
       "      <th></th>\n",
       "      <th>income_annum</th>\n",
       "      <th>loan_amount</th>\n",
       "      <th>loan_term</th>\n",
       "      <th>cibil_score</th>\n",
       "      <th>total_assets</th>\n",
       "    </tr>\n",
       "  </thead>\n",
       "  <tbody>\n",
       "    <tr>\n",
       "      <th>count</th>\n",
       "      <td>4.269000e+03</td>\n",
       "      <td>4.269000e+03</td>\n",
       "      <td>4269.000000</td>\n",
       "      <td>4269.000000</td>\n",
       "      <td>4.269000e+03</td>\n",
       "    </tr>\n",
       "    <tr>\n",
       "      <th>mean</th>\n",
       "      <td>5.059124e+06</td>\n",
       "      <td>1.513345e+07</td>\n",
       "      <td>10.900445</td>\n",
       "      <td>599.936051</td>\n",
       "      <td>3.254877e+07</td>\n",
       "    </tr>\n",
       "    <tr>\n",
       "      <th>std</th>\n",
       "      <td>2.806840e+06</td>\n",
       "      <td>9.043363e+06</td>\n",
       "      <td>5.709187</td>\n",
       "      <td>172.430401</td>\n",
       "      <td>1.950656e+07</td>\n",
       "    </tr>\n",
       "    <tr>\n",
       "      <th>min</th>\n",
       "      <td>2.000000e+05</td>\n",
       "      <td>3.000000e+05</td>\n",
       "      <td>2.000000</td>\n",
       "      <td>300.000000</td>\n",
       "      <td>4.000000e+05</td>\n",
       "    </tr>\n",
       "    <tr>\n",
       "      <th>25%</th>\n",
       "      <td>2.700000e+06</td>\n",
       "      <td>7.700000e+06</td>\n",
       "      <td>6.000000</td>\n",
       "      <td>453.000000</td>\n",
       "      <td>1.630000e+07</td>\n",
       "    </tr>\n",
       "    <tr>\n",
       "      <th>50%</th>\n",
       "      <td>5.100000e+06</td>\n",
       "      <td>1.450000e+07</td>\n",
       "      <td>10.000000</td>\n",
       "      <td>600.000000</td>\n",
       "      <td>3.150000e+07</td>\n",
       "    </tr>\n",
       "    <tr>\n",
       "      <th>75%</th>\n",
       "      <td>7.500000e+06</td>\n",
       "      <td>2.150000e+07</td>\n",
       "      <td>16.000000</td>\n",
       "      <td>748.000000</td>\n",
       "      <td>4.720000e+07</td>\n",
       "    </tr>\n",
       "    <tr>\n",
       "      <th>max</th>\n",
       "      <td>9.900000e+06</td>\n",
       "      <td>3.950000e+07</td>\n",
       "      <td>20.000000</td>\n",
       "      <td>900.000000</td>\n",
       "      <td>9.070000e+07</td>\n",
       "    </tr>\n",
       "  </tbody>\n",
       "</table>\n",
       "</div>"
      ],
      "text/plain": [
       "       income_annum   loan_amount    loan_term  cibil_score  total_assets\n",
       "count  4.269000e+03  4.269000e+03  4269.000000  4269.000000  4.269000e+03\n",
       "mean   5.059124e+06  1.513345e+07    10.900445   599.936051  3.254877e+07\n",
       "std    2.806840e+06  9.043363e+06     5.709187   172.430401  1.950656e+07\n",
       "min    2.000000e+05  3.000000e+05     2.000000   300.000000  4.000000e+05\n",
       "25%    2.700000e+06  7.700000e+06     6.000000   453.000000  1.630000e+07\n",
       "50%    5.100000e+06  1.450000e+07    10.000000   600.000000  3.150000e+07\n",
       "75%    7.500000e+06  2.150000e+07    16.000000   748.000000  4.720000e+07\n",
       "max    9.900000e+06  3.950000e+07    20.000000   900.000000  9.070000e+07"
      ]
     },
     "execution_count": 31,
     "metadata": {},
     "output_type": "execute_result"
    }
   ],
   "source": [
    "data.describe()"
   ]
  },
  {
   "cell_type": "code",
   "execution_count": 32,
   "id": "0886a4b6",
   "metadata": {},
   "outputs": [
    {
     "data": {
      "text/html": [
       "<div>\n",
       "<style scoped>\n",
       "    .dataframe tbody tr th:only-of-type {\n",
       "        vertical-align: middle;\n",
       "    }\n",
       "\n",
       "    .dataframe tbody tr th {\n",
       "        vertical-align: top;\n",
       "    }\n",
       "\n",
       "    .dataframe thead th {\n",
       "        text-align: right;\n",
       "    }\n",
       "</style>\n",
       "<table border=\"1\" class=\"dataframe\">\n",
       "  <thead>\n",
       "    <tr style=\"text-align: right;\">\n",
       "      <th></th>\n",
       "      <th>income_annum</th>\n",
       "      <th>loan_amount</th>\n",
       "      <th>loan_term</th>\n",
       "      <th>cibil_score</th>\n",
       "      <th>total_assets</th>\n",
       "    </tr>\n",
       "  </thead>\n",
       "  <tbody>\n",
       "    <tr>\n",
       "      <th>income_annum</th>\n",
       "      <td>7.878350e+12</td>\n",
       "      <td>2.354222e+13</td>\n",
       "      <td>1.840974e+05</td>\n",
       "      <td>-1.114830e+07</td>\n",
       "      <td>5.102016e+13</td>\n",
       "    </tr>\n",
       "    <tr>\n",
       "      <th>loan_amount</th>\n",
       "      <td>2.354222e+13</td>\n",
       "      <td>8.178241e+13</td>\n",
       "      <td>4.356177e+05</td>\n",
       "      <td>-2.656321e+07</td>\n",
       "      <td>1.529549e+14</td>\n",
       "    </tr>\n",
       "    <tr>\n",
       "      <th>loan_term</th>\n",
       "      <td>1.840974e+05</td>\n",
       "      <td>4.356177e+05</td>\n",
       "      <td>3.259482e+01</td>\n",
       "      <td>7.688337e+00</td>\n",
       "      <td>1.128287e+06</td>\n",
       "    </tr>\n",
       "    <tr>\n",
       "      <th>cibil_score</th>\n",
       "      <td>-1.114830e+07</td>\n",
       "      <td>-2.656321e+07</td>\n",
       "      <td>7.688337e+00</td>\n",
       "      <td>2.973224e+04</td>\n",
       "      <td>-7.881881e+07</td>\n",
       "    </tr>\n",
       "    <tr>\n",
       "      <th>total_assets</th>\n",
       "      <td>5.102016e+13</td>\n",
       "      <td>1.529549e+14</td>\n",
       "      <td>1.128287e+06</td>\n",
       "      <td>-7.881881e+07</td>\n",
       "      <td>3.805060e+14</td>\n",
       "    </tr>\n",
       "  </tbody>\n",
       "</table>\n",
       "</div>"
      ],
      "text/plain": [
       "              income_annum   loan_amount     loan_term   cibil_score  \\\n",
       "income_annum  7.878350e+12  2.354222e+13  1.840974e+05 -1.114830e+07   \n",
       "loan_amount   2.354222e+13  8.178241e+13  4.356177e+05 -2.656321e+07   \n",
       "loan_term     1.840974e+05  4.356177e+05  3.259482e+01  7.688337e+00   \n",
       "cibil_score  -1.114830e+07 -2.656321e+07  7.688337e+00  2.973224e+04   \n",
       "total_assets  5.102016e+13  1.529549e+14  1.128287e+06 -7.881881e+07   \n",
       "\n",
       "              total_assets  \n",
       "income_annum  5.102016e+13  \n",
       "loan_amount   1.529549e+14  \n",
       "loan_term     1.128287e+06  \n",
       "cibil_score  -7.881881e+07  \n",
       "total_assets  3.805060e+14  "
      ]
     },
     "execution_count": 32,
     "metadata": {},
     "output_type": "execute_result"
    }
   ],
   "source": []
  },
  {
   "cell_type": "markdown",
   "id": "96349132",
   "metadata": {},
   "source": [
    "# 4. Exploratory Data Analysis (EDA)"
   ]
  },
  {
   "cell_type": "code",
   "execution_count": 49,
   "id": "583caa3a",
   "metadata": {},
   "outputs": [
    {
     "name": "stderr",
     "output_type": "stream",
     "text": [
      "C:\\Users\\prabh\\anaconda3\\lib\\site-packages\\seaborn\\distributions.py:2619: FutureWarning: `distplot` is a deprecated function and will be removed in a future version. Please adapt your code to use either `displot` (a figure-level function with similar flexibility) or `histplot` (an axes-level function for histograms).\n",
      "  warnings.warn(msg, FutureWarning)\n",
      "C:\\Users\\prabh\\anaconda3\\lib\\site-packages\\seaborn\\distributions.py:2619: FutureWarning: `distplot` is a deprecated function and will be removed in a future version. Please adapt your code to use either `displot` (a figure-level function with similar flexibility) or `histplot` (an axes-level function for histograms).\n",
      "  warnings.warn(msg, FutureWarning)\n",
      "C:\\Users\\prabh\\anaconda3\\lib\\site-packages\\seaborn\\distributions.py:2619: FutureWarning: `distplot` is a deprecated function and will be removed in a future version. Please adapt your code to use either `displot` (a figure-level function with similar flexibility) or `histplot` (an axes-level function for histograms).\n",
      "  warnings.warn(msg, FutureWarning)\n",
      "C:\\Users\\prabh\\anaconda3\\lib\\site-packages\\seaborn\\distributions.py:2619: FutureWarning: `distplot` is a deprecated function and will be removed in a future version. Please adapt your code to use either `displot` (a figure-level function with similar flexibility) or `histplot` (an axes-level function for histograms).\n",
      "  warnings.warn(msg, FutureWarning)\n",
      "C:\\Users\\prabh\\anaconda3\\lib\\site-packages\\seaborn\\distributions.py:2619: FutureWarning: `distplot` is a deprecated function and will be removed in a future version. Please adapt your code to use either `displot` (a figure-level function with similar flexibility) or `histplot` (an axes-level function for histograms).\n",
      "  warnings.warn(msg, FutureWarning)\n"
     ]
    },
    {
     "data": {
      "image/png": "[encoded data removed]",
      "text/plain": [
       "<Figure size 1600x1000 with 5 Axes>"
      ]
     },
     "metadata": {},
     "output_type": "display_data"
    }
   ],
   "source": [
    "plt.figure(figsize=(16,10))\n",
    "plt.subplot(2,3,1)\n",
    "sns.distplot(data['income_annum'])\n",
    "\n",
    "plt.subplot(2,3,2)\n",
    "sns.distplot(data['loan_amount'])\n",
    "\n",
    "plt.subplot(2,3,3)\n",
    "sns.distplot(data['loan_term'])\n",
    "\n",
    "plt.subplot(2,3,4)\n",
    "sns.distplot(data['cibil_score'])\n",
    "\n",
    "plt.subplot(2,3,5)\n",
    "sns.distplot(data['total_assets'])\n",
    "\n",
    "plt.show()\n"
   ]
  },
  {
   "cell_type": "code",
   "execution_count": 55,
   "id": "81f14b0d",
   "metadata": {},
   "outputs": [
    {
     "data": {
      "text/plain": [
       "0.29724139686139023"
      ]
     },
     "execution_count": 55,
     "metadata": {},
     "output_type": "execute_result"
    }
   ],
   "source": [
    "#data['income_annum'].skew()\n",
    "#data['loan_amount'].skew()\n",
    "#data['loan_term'].skew()\n",
    "#data['cibil_score'].skew()\n",
    "#data['total_assets'].skew()\n",
    "\n",
    "data['total_assets'].skew()"
   ]
  },
  {
   "cell_type": "code",
   "execution_count": 63,
   "id": "38da3bdd",
   "metadata": {},
   "outputs": [
    {
     "name": "stderr",
     "output_type": "stream",
     "text": [
      "C:\\Users\\prabh\\anaconda3\\lib\\site-packages\\seaborn\\_decorators.py:36: FutureWarning: Pass the following variable as a keyword arg: x. From version 0.12, the only valid positional argument will be `data`, and passing other arguments without an explicit keyword will result in an error or misinterpretation.\n",
      "  warnings.warn(\n",
      "C:\\Users\\prabh\\anaconda3\\lib\\site-packages\\seaborn\\_decorators.py:36: FutureWarning: Pass the following variable as a keyword arg: x. From version 0.12, the only valid positional argument will be `data`, and passing other arguments without an explicit keyword will result in an error or misinterpretation.\n",
      "  warnings.warn(\n"
     ]
    },
    {
     "data": {
      "text/plain": [
       "<AxesSubplot:xlabel='total_assets'>"
      ]
     },
     "execution_count": 63,
     "metadata": {},
     "output_type": "execute_result"
    },
    {
     "data": {
      "image/png": "[encoded data removed]",
      "text/plain": [
       "<Figure size 1600x1000 with 2 Axes>"
      ]
     },
     "metadata": {},
     "output_type": "display_data"
    }
   ],
   "source": [
    "#Both loan_amount and total_assets are right skewed,so checking for outliers\n",
    "plt.figure(figsize=(16,10))\n",
    "plt.subplot(2,1,1)\n",
    "sns.boxplot(data['loan_amount'])\n",
    "plt.subplot(2,1,2)\n",
    "sns.boxplot(data['total_assets'])\n"
   ]
  },
  {
   "cell_type": "markdown",
   "id": "fb4dceee",
   "metadata": {},
   "source": [
    "# 5. Data Preparation"
   ]
  },
  {
   "cell_type": "code",
   "execution_count": 167,
   "id": "2d3b27f2",
   "metadata": {},
   "outputs": [
    {
     "data": {
      "text/plain": [
       "0       Approved\n",
       "1       Rejected\n",
       "2       Rejected\n",
       "3       Rejected\n",
       "4       Rejected\n",
       "          ...   \n",
       "4264    Rejected\n",
       "4265    Approved\n",
       "4266    Rejected\n",
       "4267    Approved\n",
       "4268    Approved\n",
       "Name: loan_status, Length: 4269, dtype: object"
      ]
     },
     "execution_count": 167,
     "metadata": {},
     "output_type": "execute_result"
    }
   ],
   "source": [
    "X=data.iloc[:,0:5]\n",
    "y=data.iloc[:,-1]\n",
    "y"
   ]
  },
  {
   "cell_type": "code",
   "execution_count": 94,
   "id": "22678e27",
   "metadata": {},
   "outputs": [],
   "source": [
    "from sklearn.model_selection import train_test_split\n",
    "X_train,X_test,y_train,y_test= train_test_split(data.iloc[:,0:5],data.iloc[:,-1],test_size=0.2,random_state=20)"
   ]
  },
  {
   "cell_type": "code",
   "execution_count": 140,
   "id": "dba0ebae",
   "metadata": {},
   "outputs": [
    {
     "data": {
      "text/plain": [
       "4040    Approved\n",
       "773     Rejected\n",
       "685     Approved\n",
       "1907    Rejected\n",
       "3907    Rejected\n",
       "          ...   \n",
       "624     Approved\n",
       "3439    Rejected\n",
       "913     Approved\n",
       "4211    Approved\n",
       "3735    Approved\n",
       "Name: loan_status, Length: 854, dtype: object"
      ]
     },
     "execution_count": 140,
     "metadata": {},
     "output_type": "execute_result"
    }
   ],
   "source": [
    "y_test"
   ]
  },
  {
   "cell_type": "code",
   "execution_count": 138,
   "id": "8fb39c9a",
   "metadata": {},
   "outputs": [
    {
     "data": {
      "text/plain": [
       "LabelEncoder()"
      ]
     },
     "execution_count": 138,
     "metadata": {},
     "output_type": "execute_result"
    }
   ],
   "source": [
    "from sklearn.preprocessing import LabelEncoder\n",
    "le=LabelEncoder()\n",
    "le.fit(y_train)"
   ]
  },
  {
   "cell_type": "code",
   "execution_count": 141,
   "id": "d911a1a8",
   "metadata": {},
   "outputs": [],
   "source": [
    "y_train_le=le.transform(y_train)\n",
    "y_test_le=le.transform(y_test)"
   ]
  },
  {
   "cell_type": "code",
   "execution_count": 209,
   "id": "bba7de07",
   "metadata": {},
   "outputs": [
    {
     "data": {
      "text/plain": [
       "array([0, 1, 0, 1, 1, 1, 0, 1, 0, 0, 1, 0, 1, 0, 1, 0, 1, 1, 0, 0, 0, 0,\n",
       "       0, 0, 0, 0, 0, 1, 0, 0, 1, 0, 1, 0, 1, 1, 0, 1, 1, 0, 1, 1, 0, 1,\n",
       "       0, 0, 0, 0, 1, 0, 0, 1, 1, 0, 0, 1, 0, 0, 0, 0, 0, 1, 0, 0, 0, 0,\n",
       "       0, 1, 0, 1, 1, 0, 0, 0, 0, 0, 0, 0, 1, 0, 0, 0, 0, 1, 1, 1, 0, 0,\n",
       "       0, 0, 0, 0, 1, 0, 0, 0, 1, 0, 1, 0, 0, 0, 0, 0, 0, 0, 0, 0, 0, 0,\n",
       "       0, 1, 1, 0, 0, 1, 0, 0, 0, 1, 0, 0, 1, 1, 0, 0, 0, 0, 0, 0, 0, 1,\n",
       "       0, 0, 0, 1, 0, 1, 0, 1, 0, 0, 0, 0, 0, 0, 0, 0, 0, 0, 0, 1, 1, 1,\n",
       "       1, 0, 0, 0, 0, 0, 0, 1, 1, 1, 1, 1, 0, 0, 0, 1, 1, 1, 0, 0, 0, 0,\n",
       "       0, 0, 0, 0, 0, 0, 0, 0, 0, 0, 0, 1, 1, 1, 0, 1, 0, 0, 1, 0, 0, 0,\n",
       "       1, 0, 0, 0, 1, 0, 1, 0, 0, 1, 1, 1, 0, 1, 1, 0, 0, 1, 1, 1, 0, 0,\n",
       "       1, 0, 0, 0, 0, 1, 0, 0, 0, 0, 0, 1, 0, 0, 1, 0, 0, 1, 0, 0, 1, 0,\n",
       "       0, 0, 1, 0, 0, 1, 1, 0, 1, 0, 1, 1, 1, 0, 0, 0, 1, 0, 0, 1, 0, 1,\n",
       "       1, 0, 0, 1, 0, 1, 0, 1, 0, 0, 0, 0, 0, 1, 1, 0, 0, 1, 0, 1, 0, 1,\n",
       "       0, 0, 1, 0, 0, 1, 0, 1, 0, 1, 1, 1, 0, 0, 0, 1, 0, 0, 0, 0, 0, 0,\n",
       "       0, 1, 0, 0, 1, 0, 1, 1, 1, 0, 0, 0, 1, 0, 1, 0, 1, 1, 0, 1, 1, 1,\n",
       "       1, 0, 0, 0, 0, 0, 0, 0, 0, 0, 0, 0, 0, 0, 0, 1, 0, 0, 1, 1, 1, 1,\n",
       "       1, 1, 0, 0, 1, 0, 0, 0, 0, 0, 0, 1, 1, 0, 0, 1, 0, 0, 0, 1, 0, 0,\n",
       "       1, 1, 1, 0, 0, 0, 0, 0, 0, 1, 0, 0, 0, 0, 0, 0, 0, 0, 0, 0, 0, 0,\n",
       "       0, 0, 0, 0, 0, 0, 1, 1, 1, 1, 0, 0, 1, 0, 1, 1, 1, 0, 0, 1, 1, 0,\n",
       "       1, 0, 0, 1, 0, 0, 1, 1, 0, 0, 1, 0, 0, 0, 1, 0, 0, 1, 1, 0, 0, 0,\n",
       "       1, 0, 0, 0, 0, 0, 1, 1, 1, 0, 0, 1, 0, 0, 0, 1, 0, 1, 1, 1, 0, 0,\n",
       "       1, 0, 0, 0, 0, 1, 0, 0, 1, 1, 1, 0, 0, 0, 1, 0, 0, 1, 0, 1, 0, 0,\n",
       "       0, 0, 1, 0, 0, 0, 0, 0, 1, 0, 1, 1, 1, 0, 1, 0, 0, 0, 0, 0, 0, 0,\n",
       "       0, 1, 1, 0, 1, 0, 0, 0, 0, 0, 1, 1, 0, 0, 0, 0, 1, 1, 0, 1, 0, 0,\n",
       "       1, 0, 1, 0, 1, 1, 1, 0, 0, 0, 0, 0, 1, 0, 0, 0, 0, 0, 0, 0, 1, 1,\n",
       "       0, 0, 1, 0, 1, 0, 0, 0, 0, 0, 0, 1, 0, 0, 1, 0, 0, 1, 1, 0, 0, 1,\n",
       "       1, 0, 1, 0, 1, 0, 0, 0, 0, 1, 1, 1, 1, 0, 0, 0, 0, 1, 0, 1, 0, 1,\n",
       "       1, 1, 0, 1, 0, 0, 0, 1, 0, 0, 0, 1, 0, 1, 0, 0, 1, 1, 0, 1, 1, 0,\n",
       "       0, 0, 0, 1, 1, 0, 1, 1, 0, 1, 0, 0, 0, 1, 1, 0, 0, 0, 0, 1, 0, 0,\n",
       "       0, 0, 0, 0, 0, 0, 0, 0, 0, 0, 0, 0, 1, 0, 1, 1, 1, 0, 0, 0, 1, 1,\n",
       "       1, 0, 0, 1, 0, 1, 0, 1, 0, 0, 1, 1, 0, 1, 0, 0, 1, 0, 0, 1, 0, 0,\n",
       "       0, 0, 0, 0, 0, 0, 0, 0, 0, 1, 0, 0, 0, 0, 1, 0, 0, 1, 0, 0, 0, 0,\n",
       "       0, 0, 0, 1, 0, 0, 0, 0, 0, 1, 1, 0, 1, 1, 1, 0, 1, 0, 0, 0, 0, 1,\n",
       "       1, 1, 0, 0, 1, 1, 0, 1, 0, 0, 1, 0, 1, 0, 0, 0, 0, 0, 1, 1, 0, 0,\n",
       "       0, 1, 1, 0, 0, 1, 0, 0, 0, 0, 1, 0, 0, 0, 0, 0, 0, 0, 0, 0, 0, 0,\n",
       "       0, 1, 0, 1, 1, 0, 0, 1, 0, 0, 0, 0, 1, 0, 1, 1, 0, 0, 1, 0, 1, 0,\n",
       "       0, 1, 0, 1, 0, 0, 0, 1, 0, 1, 0, 0, 0, 0, 0, 1, 1, 0, 1, 0, 1, 1,\n",
       "       0, 1, 0, 0, 0, 1, 1, 0, 0, 0, 1, 1, 0, 0, 0, 1, 1, 0, 0, 0, 1, 1,\n",
       "       0, 0, 1, 1, 1, 1, 0, 1, 0, 1, 1, 1, 0, 0, 1, 0, 0, 0])"
      ]
     },
     "execution_count": 209,
     "metadata": {},
     "output_type": "execute_result"
    }
   ],
   "source": [
    "y_test_le"
   ]
  },
  {
   "cell_type": "code",
   "execution_count": 101,
   "id": "a1958a8f",
   "metadata": {},
   "outputs": [],
   "source": [
    "from sklearn.preprocessing import StandardScaler\n",
    "scaler=StandardScaler()\n",
    "scaler.fit(X_train)\n",
    "\n",
    "X_train_scaled=scaler.transform(X_train)\n",
    "X_test_scaled=scaler.transform(X_test)"
   ]
  },
  {
   "cell_type": "code",
   "execution_count": 102,
   "id": "85b333a4",
   "metadata": {},
   "outputs": [],
   "source": [
    "X_train_scaled=pd.DataFrame(X_train_scaled,columns=X_train.columns)\n",
    "X_test_scaled=pd.DataFrame(X_test_scaled,columns=X_test.columns)\n"
   ]
  },
  {
   "cell_type": "code",
   "execution_count": 103,
   "id": "6e7bbf56",
   "metadata": {},
   "outputs": [
    {
     "data": {
      "text/html": [
       "<div>\n",
       "<style scoped>\n",
       "    .dataframe tbody tr th:only-of-type {\n",
       "        vertical-align: middle;\n",
       "    }\n",
       "\n",
       "    .dataframe tbody tr th {\n",
       "        vertical-align: top;\n",
       "    }\n",
       "\n",
       "    .dataframe thead th {\n",
       "        text-align: right;\n",
       "    }\n",
       "</style>\n",
       "<table border=\"1\" class=\"dataframe\">\n",
       "  <thead>\n",
       "    <tr style=\"text-align: right;\">\n",
       "      <th></th>\n",
       "      <th>income_annum</th>\n",
       "      <th>loan_amount</th>\n",
       "      <th>loan_term</th>\n",
       "      <th>cibil_score</th>\n",
       "      <th>total_assets</th>\n",
       "    </tr>\n",
       "  </thead>\n",
       "  <tbody>\n",
       "    <tr>\n",
       "      <th>0</th>\n",
       "      <td>-0.515382</td>\n",
       "      <td>-0.730390</td>\n",
       "      <td>1.602082</td>\n",
       "      <td>-0.023258</td>\n",
       "      <td>-0.501450</td>\n",
       "    </tr>\n",
       "    <tr>\n",
       "      <th>1</th>\n",
       "      <td>1.089704</td>\n",
       "      <td>1.470626</td>\n",
       "      <td>-0.858582</td>\n",
       "      <td>0.843854</td>\n",
       "      <td>1.421723</td>\n",
       "    </tr>\n",
       "    <tr>\n",
       "      <th>2</th>\n",
       "      <td>-1.621109</td>\n",
       "      <td>-1.526738</td>\n",
       "      <td>1.250559</td>\n",
       "      <td>0.947907</td>\n",
       "      <td>-1.493726</td>\n",
       "    </tr>\n",
       "    <tr>\n",
       "      <th>3</th>\n",
       "      <td>1.696070</td>\n",
       "      <td>1.913041</td>\n",
       "      <td>-1.561629</td>\n",
       "      <td>-0.318077</td>\n",
       "      <td>2.178717</td>\n",
       "    </tr>\n",
       "    <tr>\n",
       "      <th>4</th>\n",
       "      <td>1.339384</td>\n",
       "      <td>0.807003</td>\n",
       "      <td>0.547512</td>\n",
       "      <td>0.543255</td>\n",
       "      <td>1.217130</td>\n",
       "    </tr>\n",
       "    <tr>\n",
       "      <th>...</th>\n",
       "      <td>...</td>\n",
       "      <td>...</td>\n",
       "      <td>...</td>\n",
       "      <td>...</td>\n",
       "      <td>...</td>\n",
       "    </tr>\n",
       "    <tr>\n",
       "      <th>3410</th>\n",
       "      <td>1.731739</td>\n",
       "      <td>0.917607</td>\n",
       "      <td>0.899035</td>\n",
       "      <td>0.514351</td>\n",
       "      <td>1.902517</td>\n",
       "    </tr>\n",
       "    <tr>\n",
       "      <th>3411</th>\n",
       "      <td>-0.551051</td>\n",
       "      <td>-0.476001</td>\n",
       "      <td>0.547512</td>\n",
       "      <td>1.387244</td>\n",
       "      <td>-0.276398</td>\n",
       "    </tr>\n",
       "    <tr>\n",
       "      <th>3412</th>\n",
       "      <td>1.161041</td>\n",
       "      <td>1.846679</td>\n",
       "      <td>0.899035</td>\n",
       "      <td>1.271629</td>\n",
       "      <td>1.994584</td>\n",
       "    </tr>\n",
       "    <tr>\n",
       "      <th>3413</th>\n",
       "      <td>-1.335760</td>\n",
       "      <td>-1.349771</td>\n",
       "      <td>-0.858582</td>\n",
       "      <td>-0.682264</td>\n",
       "      <td>-1.278904</td>\n",
       "    </tr>\n",
       "    <tr>\n",
       "      <th>3414</th>\n",
       "      <td>1.125373</td>\n",
       "      <td>1.514867</td>\n",
       "      <td>-1.210105</td>\n",
       "      <td>0.121260</td>\n",
       "      <td>0.352725</td>\n",
       "    </tr>\n",
       "  </tbody>\n",
       "</table>\n",
       "<p>3415 rows × 5 columns</p>\n",
       "</div>"
      ],
      "text/plain": [
       "      income_annum  loan_amount  loan_term  cibil_score  total_assets\n",
       "0        -0.515382    -0.730390   1.602082    -0.023258     -0.501450\n",
       "1         1.089704     1.470626  -0.858582     0.843854      1.421723\n",
       "2        -1.621109    -1.526738   1.250559     0.947907     -1.493726\n",
       "3         1.696070     1.913041  -1.561629    -0.318077      2.178717\n",
       "4         1.339384     0.807003   0.547512     0.543255      1.217130\n",
       "...            ...          ...        ...          ...           ...\n",
       "3410      1.731739     0.917607   0.899035     0.514351      1.902517\n",
       "3411     -0.551051    -0.476001   0.547512     1.387244     -0.276398\n",
       "3412      1.161041     1.846679   0.899035     1.271629      1.994584\n",
       "3413     -1.335760    -1.349771  -0.858582    -0.682264     -1.278904\n",
       "3414      1.125373     1.514867  -1.210105     0.121260      0.352725\n",
       "\n",
       "[3415 rows x 5 columns]"
      ]
     },
     "execution_count": 103,
     "metadata": {},
     "output_type": "execute_result"
    }
   ],
   "source": [
    "X_train_scaled"
   ]
  },
  {
   "cell_type": "code",
   "execution_count": 104,
   "id": "fcc3b735",
   "metadata": {},
   "outputs": [
    {
     "name": "stderr",
     "output_type": "stream",
     "text": [
      "C:\\Users\\prabh\\anaconda3\\lib\\site-packages\\seaborn\\distributions.py:2619: FutureWarning: `distplot` is a deprecated function and will be removed in a future version. Please adapt your code to use either `displot` (a figure-level function with similar flexibility) or `histplot` (an axes-level function for histograms).\n",
      "  warnings.warn(msg, FutureWarning)\n",
      "C:\\Users\\prabh\\anaconda3\\lib\\site-packages\\seaborn\\distributions.py:2619: FutureWarning: `distplot` is a deprecated function and will be removed in a future version. Please adapt your code to use either `displot` (a figure-level function with similar flexibility) or `histplot` (an axes-level function for histograms).\n",
      "  warnings.warn(msg, FutureWarning)\n",
      "C:\\Users\\prabh\\anaconda3\\lib\\site-packages\\seaborn\\distributions.py:2619: FutureWarning: `distplot` is a deprecated function and will be removed in a future version. Please adapt your code to use either `displot` (a figure-level function with similar flexibility) or `histplot` (an axes-level function for histograms).\n",
      "  warnings.warn(msg, FutureWarning)\n",
      "C:\\Users\\prabh\\anaconda3\\lib\\site-packages\\seaborn\\distributions.py:2619: FutureWarning: `distplot` is a deprecated function and will be removed in a future version. Please adapt your code to use either `displot` (a figure-level function with similar flexibility) or `histplot` (an axes-level function for histograms).\n",
      "  warnings.warn(msg, FutureWarning)\n",
      "C:\\Users\\prabh\\anaconda3\\lib\\site-packages\\seaborn\\distributions.py:2619: FutureWarning: `distplot` is a deprecated function and will be removed in a future version. Please adapt your code to use either `displot` (a figure-level function with similar flexibility) or `histplot` (an axes-level function for histograms).\n",
      "  warnings.warn(msg, FutureWarning)\n"
     ]
    },
    {
     "data": {
      "image/png": "[encoded data removed]",
      "text/plain": [
       "<Figure size 1600x1000 with 5 Axes>"
      ]
     },
     "metadata": {},
     "output_type": "display_data"
    }
   ],
   "source": [
    "plt.figure(figsize=(16,10))\n",
    "plt.subplot(2,3,1)\n",
    "sns.distplot(X_train_scaled['income_annum'])\n",
    "\n",
    "plt.subplot(2,3,2)\n",
    "sns.distplot(X_train_scaled['loan_amount'])\n",
    "\n",
    "plt.subplot(2,3,3)\n",
    "sns.distplot(X_train_scaled['loan_term'])\n",
    "\n",
    "plt.subplot(2,3,4)\n",
    "sns.distplot(X_train_scaled['cibil_score'])\n",
    "\n",
    "plt.subplot(2,3,5)\n",
    "sns.distplot(X_train_scaled['total_assets'])\n",
    "\n",
    "\n",
    "\n",
    "plt.show()\n"
   ]
  },
  {
   "cell_type": "code",
   "execution_count": 105,
   "id": "fba6d6f1",
   "metadata": {},
   "outputs": [
    {
     "data": {
      "text/html": [
       "<div>\n",
       "<style scoped>\n",
       "    .dataframe tbody tr th:only-of-type {\n",
       "        vertical-align: middle;\n",
       "    }\n",
       "\n",
       "    .dataframe tbody tr th {\n",
       "        vertical-align: top;\n",
       "    }\n",
       "\n",
       "    .dataframe thead th {\n",
       "        text-align: right;\n",
       "    }\n",
       "</style>\n",
       "<table border=\"1\" class=\"dataframe\">\n",
       "  <thead>\n",
       "    <tr style=\"text-align: right;\">\n",
       "      <th></th>\n",
       "      <th>income_annum</th>\n",
       "      <th>loan_amount</th>\n",
       "      <th>loan_term</th>\n",
       "      <th>cibil_score</th>\n",
       "      <th>total_assets</th>\n",
       "    </tr>\n",
       "  </thead>\n",
       "  <tbody>\n",
       "    <tr>\n",
       "      <th>count</th>\n",
       "      <td>3415.00</td>\n",
       "      <td>3415.00</td>\n",
       "      <td>3415.00</td>\n",
       "      <td>3415.00</td>\n",
       "      <td>3415.00</td>\n",
       "    </tr>\n",
       "    <tr>\n",
       "      <th>mean</th>\n",
       "      <td>0.00</td>\n",
       "      <td>0.00</td>\n",
       "      <td>0.00</td>\n",
       "      <td>-0.00</td>\n",
       "      <td>0.00</td>\n",
       "    </tr>\n",
       "    <tr>\n",
       "      <th>std</th>\n",
       "      <td>1.00</td>\n",
       "      <td>1.00</td>\n",
       "      <td>1.00</td>\n",
       "      <td>1.00</td>\n",
       "      <td>1.00</td>\n",
       "    </tr>\n",
       "    <tr>\n",
       "      <th>min</th>\n",
       "      <td>-1.73</td>\n",
       "      <td>-1.64</td>\n",
       "      <td>-1.56</td>\n",
       "      <td>-1.72</td>\n",
       "      <td>-1.64</td>\n",
       "    </tr>\n",
       "    <tr>\n",
       "      <th>25%</th>\n",
       "      <td>-0.87</td>\n",
       "      <td>-0.83</td>\n",
       "      <td>-0.86</td>\n",
       "      <td>-0.86</td>\n",
       "      <td>-0.84</td>\n",
       "    </tr>\n",
       "    <tr>\n",
       "      <th>50%</th>\n",
       "      <td>-0.02</td>\n",
       "      <td>-0.07</td>\n",
       "      <td>-0.16</td>\n",
       "      <td>-0.01</td>\n",
       "      <td>-0.06</td>\n",
       "    </tr>\n",
       "    <tr>\n",
       "      <th>75%</th>\n",
       "      <td>0.88</td>\n",
       "      <td>0.71</td>\n",
       "      <td>0.90</td>\n",
       "      <td>0.86</td>\n",
       "      <td>0.76</td>\n",
       "    </tr>\n",
       "    <tr>\n",
       "      <th>max</th>\n",
       "      <td>1.73</td>\n",
       "      <td>2.62</td>\n",
       "      <td>1.60</td>\n",
       "      <td>1.75</td>\n",
       "      <td>2.98</td>\n",
       "    </tr>\n",
       "  </tbody>\n",
       "</table>\n",
       "</div>"
      ],
      "text/plain": [
       "       income_annum  loan_amount  loan_term  cibil_score  total_assets\n",
       "count       3415.00      3415.00    3415.00      3415.00       3415.00\n",
       "mean           0.00         0.00       0.00        -0.00          0.00\n",
       "std            1.00         1.00       1.00         1.00          1.00\n",
       "min           -1.73        -1.64      -1.56        -1.72         -1.64\n",
       "25%           -0.87        -0.83      -0.86        -0.86         -0.84\n",
       "50%           -0.02        -0.07      -0.16        -0.01         -0.06\n",
       "75%            0.88         0.71       0.90         0.86          0.76\n",
       "max            1.73         2.62       1.60         1.75          2.98"
      ]
     },
     "execution_count": 105,
     "metadata": {},
     "output_type": "execute_result"
    }
   ],
   "source": [
    "np.round(X_train_scaled.describe(),2)"
   ]
  },
  {
   "cell_type": "markdown",
   "id": "485931c9",
   "metadata": {},
   "source": [
    "# 6. Model Selection And Evaluation"
   ]
  },
  {
   "cell_type": "code",
   "execution_count": 144,
   "id": "bb6897a7",
   "metadata": {},
   "outputs": [],
   "source": [
    "from sklearn.linear_model import LogisticRegression\n",
    "lr=LogisticRegression()\n"
   ]
  },
  {
   "cell_type": "code",
   "execution_count": 145,
   "id": "23353a3a",
   "metadata": {},
   "outputs": [
    {
     "data": {
      "text/plain": [
       "LogisticRegression()"
      ]
     },
     "execution_count": 145,
     "metadata": {},
     "output_type": "execute_result"
    }
   ],
   "source": [
    "lr.fit(X_train_scaled,y_train_le)"
   ]
  },
  {
   "cell_type": "code",
   "execution_count": 146,
   "id": "e9c1446d",
   "metadata": {},
   "outputs": [],
   "source": [
    "y_predict=lr.predict(X_test_scaled)"
   ]
  },
  {
   "cell_type": "code",
   "execution_count": 147,
   "id": "3ede9843",
   "metadata": {},
   "outputs": [],
   "source": [
    "from sklearn.metrics import accuracy_score"
   ]
  },
  {
   "cell_type": "code",
   "execution_count": 149,
   "id": "fad253c3",
   "metadata": {},
   "outputs": [
    {
     "name": "stdout",
     "output_type": "stream",
     "text": [
      "0.9227166276346604\n"
     ]
    }
   ],
   "source": [
    "print(accuracy_score(y_test_le,y_predict))"
   ]
  },
  {
   "cell_type": "code",
   "execution_count": 228,
   "id": "f5dc7655",
   "metadata": {},
   "outputs": [],
   "source": [
    "from sklearn.model_selection import cross_val_score\n",
    "lr_cross=np.mean(cross_val_score(lr, X, y, cv=10, scoring='accuracy'))"
   ]
  },
  {
   "cell_type": "code",
   "execution_count": 157,
   "id": "de5b5db1",
   "metadata": {},
   "outputs": [
    {
     "name": "stdout",
     "output_type": "stream",
     "text": [
      "Decision Tree Accuracy: 0.9836065573770492\n"
     ]
    }
   ],
   "source": [
    "from sklearn.tree import DecisionTreeClassifier\n",
    "dt_model = DecisionTreeClassifier(random_state=10)\n",
    "dt_model.fit(X_train_scaled,y_train_le)\n",
    "dt_predictions = dt_model.predict(X_test_scaled)\n",
    "dt_accuracy = accuracy_score(y_test_le, dt_predictions)\n",
    "print(f\"Decision Tree Accuracy: {dt_accuracy}\")"
   ]
  },
  {
   "cell_type": "code",
   "execution_count": 229,
   "id": "273a2109",
   "metadata": {},
   "outputs": [],
   "source": [
    "dt_cross=np.mean(cross_val_score(dt_model, X, y, cv=10, scoring='accuracy'))"
   ]
  },
  {
   "cell_type": "code",
   "execution_count": 152,
   "id": "738e1d15",
   "metadata": {},
   "outputs": [
    {
     "name": "stdout",
     "output_type": "stream",
     "text": [
      "Random Forest Accuracy: 0.9836065573770492\n"
     ]
    }
   ],
   "source": [
    "from sklearn.ensemble import RandomForestClassifier\n",
    "rf_model = RandomForestClassifier(random_state=10)\n",
    "rf_model.fit(X_train_scaled,y_train_le)\n",
    "rf_predictions = rf_model.predict(X_test_scaled)\n",
    "rf_accuracy = accuracy_score(y_test_le, rf_predictions)\n",
    "print(f\"Random Forest Accuracy: {rf_accuracy}\")"
   ]
  },
  {
   "cell_type": "code",
   "execution_count": 230,
   "id": "cbc5a446",
   "metadata": {},
   "outputs": [],
   "source": [
    "rf_cross=np.mean(cross_val_score(rf_model, X, y, cv=10, scoring='accuracy'))"
   ]
  },
  {
   "cell_type": "code",
   "execution_count": 153,
   "id": "5f727ad1",
   "metadata": {},
   "outputs": [
    {
     "name": "stdout",
     "output_type": "stream",
     "text": [
      "Gradient Boosting Accuracy: 0.977751756440281\n"
     ]
    }
   ],
   "source": [
    "from sklearn.ensemble import GradientBoostingClassifier\n",
    "gb_model = GradientBoostingClassifier(random_state=10)\n",
    "gb_model.fit(X_train_scaled,y_train_le)\n",
    "gb_predictions = gb_model.predict(X_test_scaled)\n",
    "gb_accuracy = accuracy_score(y_test_le, gb_predictions)\n",
    "print(f\"Gradient Boosting Accuracy: {gb_accuracy}\")"
   ]
  },
  {
   "cell_type": "code",
   "execution_count": 231,
   "id": "aae11e65",
   "metadata": {},
   "outputs": [],
   "source": [
    "gb_cross=np.mean(cross_val_score(gb_model, X, y, cv=10, scoring='accuracy'))"
   ]
  },
  {
   "cell_type": "code",
   "execution_count": 154,
   "id": "20790a14",
   "metadata": {},
   "outputs": [
    {
     "name": "stdout",
     "output_type": "stream",
     "text": [
      "SVM Accuracy: 0.9590163934426229\n"
     ]
    }
   ],
   "source": [
    "from sklearn.svm import SVC\n",
    "svm_model = SVC(random_state=10)\n",
    "svm_model.fit(X_train_scaled,y_train_le)\n",
    "svm_predictions = svm_model.predict(X_test_scaled)\n",
    "svm_accuracy = accuracy_score(y_test_le, svm_predictions)\n",
    "print(f\"SVM Accuracy: {svm_accuracy}\")"
   ]
  },
  {
   "cell_type": "code",
   "execution_count": 232,
   "id": "44bd20db",
   "metadata": {},
   "outputs": [],
   "source": [
    "svm_cross=np.mean(cross_val_score(svm_model, X, y, cv=10, scoring='accuracy'))"
   ]
  },
  {
   "cell_type": "code",
   "execution_count": 155,
   "id": "7b587eb3",
   "metadata": {},
   "outputs": [
    {
     "name": "stdout",
     "output_type": "stream",
     "text": [
      "Naive Bayes Accuracy: 0.9391100702576113\n"
     ]
    }
   ],
   "source": [
    "from sklearn.naive_bayes import GaussianNB\n",
    "nb_model = GaussianNB()\n",
    "nb_model.fit(X_train_scaled,y_train_le)\n",
    "nb_predictions = nb_model.predict(X_test_scaled)\n",
    "nb_accuracy = accuracy_score(y_test_le, nb_predictions)\n",
    "print(f\"Naive Bayes Accuracy: {nb_accuracy}\")"
   ]
  },
  {
   "cell_type": "code",
   "execution_count": 233,
   "id": "4d95ccc3",
   "metadata": {},
   "outputs": [],
   "source": [
    "nb_cross=np.mean(cross_val_score(nb_model, X, y, cv=10, scoring='accuracy'))"
   ]
  },
  {
   "cell_type": "code",
   "execution_count": 235,
   "id": "e3d0a503",
   "metadata": {},
   "outputs": [
    {
     "name": "stdout",
     "output_type": "stream",
     "text": [
      "Logistic Regression Accuracy: 0.6458131301470023\n",
      "Decision Tree Accuracy: 0.9857120867280184\n",
      "Random Forest Accuracy: 0.9859462787654891\n",
      "Gradient Boosting Accuracy: 0.9852442523996439\n",
      "SVM Accuracy: 0.622159734362459\n",
      "Naive Bayes Accuracy: 0.622159734362459\n"
     ]
    }
   ],
   "source": [
    "#Accuracies Of All Algorithms After Cross Validation\n",
    "print(f\"Logistic Regression Accuracy: {lr_cross}\")\n",
    "print(f\"Decision Tree Accuracy: {dt_cross}\")\n",
    "print(f\"Random Forest Accuracy: {rf_cross}\")\n",
    "print(f\"Gradient Boosting Accuracy: {gb_cross}\")\n",
    "print(f\"SVM Accuracy: {svm_cross}\")\n",
    "print(f\"Naive Bayes Accuracy: {nb_cross}\")\n",
    "\n"
   ]
  },
  {
   "cell_type": "markdown",
   "id": "aed0969e",
   "metadata": {},
   "source": [
    "# 7. Hyperparameter Tuning Of Random Forest"
   ]
  },
  {
   "cell_type": "code",
   "execution_count": 182,
   "id": "026fc5fc",
   "metadata": {},
   "outputs": [],
   "source": [
    "n_estimators=[20,60,100,120]\n",
    "max_features=[0.2,0.6,1.0]\n",
    "max_depth=[2,8,None]\n",
    "max_samples=[0.5,0.75,1.0]\n"
   ]
  },
  {
   "cell_type": "code",
   "execution_count": 183,
   "id": "9cd052b9",
   "metadata": {},
   "outputs": [
    {
     "name": "stdout",
     "output_type": "stream",
     "text": [
      "{'n_estimators': [20, 60, 100, 120], 'max_features': [0.2, 0.6, 1.0], 'max_depth': [2, 8, None], 'max_samples': [0.5, 0.75, 1.0]}\n"
     ]
    }
   ],
   "source": [
    "param_grid={'n_estimators':n_estimators,\n",
    "            'max_features':max_features,\n",
    "            'max_depth':max_depth,\n",
    "            'max_samples':max_samples\n",
    "    \n",
    "}\n",
    "print(param_grid)"
   ]
  },
  {
   "cell_type": "code",
   "execution_count": 190,
   "id": "f3aee4fe",
   "metadata": {},
   "outputs": [],
   "source": [
    "from sklearn.model_selection import GridSearchCV\n",
    "\n",
    "rf_grid=GridSearchCV(estimator=rf_model,\n",
    "                    param_grid=param_grid,\n",
    "                    cv=5,\n",
    "                    verbose=2,\n",
    "                    n_jobs=-1)"
   ]
  },
  {
   "cell_type": "code",
   "execution_count": 191,
   "id": "675e7514",
   "metadata": {},
   "outputs": [
    {
     "name": "stdout",
     "output_type": "stream",
     "text": [
      "Fitting 5 folds for each of 108 candidates, totalling 540 fits\n"
     ]
    },
    {
     "data": {
      "text/plain": [
       "GridSearchCV(cv=5, estimator=RandomForestClassifier(random_state=10), n_jobs=-1,\n",
       "             param_grid={'max_depth': [2, 8, None],\n",
       "                         'max_features': [0.2, 0.6, 1.0],\n",
       "                         'max_samples': [0.5, 0.75, 1.0],\n",
       "                         'n_estimators': [20, 60, 100, 120]},\n",
       "             verbose=2)"
      ]
     },
     "execution_count": 191,
     "metadata": {},
     "output_type": "execute_result"
    }
   ],
   "source": [
    "rf_grid.fit(X_train_scaled,y_train_le)"
   ]
  },
  {
   "cell_type": "code",
   "execution_count": 193,
   "id": "dd4f3b9f",
   "metadata": {},
   "outputs": [
    {
     "data": {
      "text/plain": [
       "{'max_depth': None,\n",
       " 'max_features': 1.0,\n",
       " 'max_samples': 1.0,\n",
       " 'n_estimators': 100}"
      ]
     },
     "execution_count": 193,
     "metadata": {},
     "output_type": "execute_result"
    }
   ],
   "source": [
    "rf_grid.best_params_"
   ]
  },
  {
   "cell_type": "code",
   "execution_count": 194,
   "id": "b975eeb3",
   "metadata": {},
   "outputs": [
    {
     "data": {
      "text/plain": [
       "0.9885797950219619"
      ]
     },
     "execution_count": 194,
     "metadata": {},
     "output_type": "execute_result"
    }
   ],
   "source": [
    "rf_grid.best_score_"
   ]
  },
  {
   "cell_type": "code",
   "execution_count": 197,
   "id": "d8d0afcd",
   "metadata": {},
   "outputs": [
    {
     "name": "stdout",
     "output_type": "stream",
     "text": [
      "Random Forest Accuracy After Tuning: 0.9871194379391101\n"
     ]
    }
   ],
   "source": [
    "from sklearn.ensemble import RandomForestClassifier\n",
    "rf_final_model = RandomForestClassifier(n_estimators=100, max_depth=None,max_features=1.0, random_state=10,max_samples=1.0)\n",
    "rf_final_model.fit(X_train_scaled,y_train_le)\n",
    "rf_final_predictions = rf_final_model.predict(X_test_scaled)\n",
    "rf_final_accuracy = accuracy_score(y_test_le, rf_final_predictions)\n",
    "print(f\"Random Forest Accuracy After Tuning: {rf_final_accuracy}\")"
   ]
  },
  {
   "cell_type": "code",
   "execution_count": 198,
   "id": "b7f07678",
   "metadata": {},
   "outputs": [
    {
     "data": {
      "text/plain": [
       "0.9889918747457422"
      ]
     },
     "execution_count": 198,
     "metadata": {},
     "output_type": "execute_result"
    }
   ],
   "source": [
    "np.mean(cross_val_score(rf_final_model, X, y, cv=10, scoring='accuracy'))"
   ]
  },
  {
   "cell_type": "markdown",
   "id": "f6623743",
   "metadata": {},
   "source": [
    "# 8. Model Testing"
   ]
  },
  {
   "cell_type": "code",
   "execution_count": 223,
   "id": "0bdabfe0",
   "metadata": {},
   "outputs": [
    {
     "name": "stdout",
     "output_type": "stream",
     "text": [
      "Approved\n"
     ]
    },
    {
     "name": "stderr",
     "output_type": "stream",
     "text": [
      "C:\\Users\\prabh\\anaconda3\\lib\\site-packages\\sklearn\\base.py:450: UserWarning: X does not have valid feature names, but RandomForestClassifier was fitted with feature names\n",
      "  warnings.warn(\n"
     ]
    }
   ],
   "source": [
    "def check_status(ia,la,lt,cs,ta):\n",
    "    \n",
    "    input_data = pd.DataFrame({\n",
    "        'income_annum': [ia],\n",
    "        'loan_amount': [la],\n",
    "        'loan_term': [lt],\n",
    "        'cibil_score': [cs],\n",
    "        'total_assets': [ta]\n",
    "    })\n",
    "    standardized_data = scaler.transform(input_data)\n",
    "    prediction = rf_final_model.predict(standardized_data)\n",
    "    \n",
    "    return 'Approved' if prediction[0] == 0 else 'Rejected'\n",
    "\n",
    "\n",
    "\n"
   ]
  },
  {
   "cell_type": "code",
   "execution_count": 226,
   "id": "487a9b9f",
   "metadata": {},
   "outputs": [
    {
     "name": "stdout",
     "output_type": "stream",
     "text": [
      "Enter annual income: 3300000\n",
      "Enter loan amount: 11300000\n",
      "Enter loan term: 20\n",
      "Enter CIBIL score: 559\n",
      "Enter total assets: 20000000\n",
      "Approved\n"
     ]
    },
    {
     "name": "stderr",
     "output_type": "stream",
     "text": [
      "C:\\Users\\prabh\\anaconda3\\lib\\site-packages\\sklearn\\base.py:450: UserWarning: X does not have valid feature names, but RandomForestClassifier was fitted with feature names\n",
      "  warnings.warn(\n"
     ]
    }
   ],
   "source": [
    "\n",
    "income_annum = float(input(\"Enter annual income: \"))\n",
    "loan_amount = float(input(\"Enter loan amount: \"))\n",
    "loan_term = float(input(\"Enter loan term: \"))\n",
    "cibil_score = float(input(\"Enter CIBIL score: \"))\n",
    "total_assets = float(input(\"Enter total assets: \"))\n",
    "\n",
    "\n",
    "placement_prediction = check_status(income_annum,loan_amount,loan_term,cibil_score,total_assets)\n",
    "print(placement_prediction)\n"
   ]
  },
  {
   "cell_type": "code",
   "execution_count": 201,
   "id": "76d1adbd",
   "metadata": {},
   "outputs": [
    {
     "data": {
      "text/html": [
       "<div>\n",
       "<style scoped>\n",
       "    .dataframe tbody tr th:only-of-type {\n",
       "        vertical-align: middle;\n",
       "    }\n",
       "\n",
       "    .dataframe tbody tr th {\n",
       "        vertical-align: top;\n",
       "    }\n",
       "\n",
       "    .dataframe thead th {\n",
       "        text-align: right;\n",
       "    }\n",
       "</style>\n",
       "<table border=\"1\" class=\"dataframe\">\n",
       "  <thead>\n",
       "    <tr style=\"text-align: right;\">\n",
       "      <th></th>\n",
       "      <th>income_annum</th>\n",
       "      <th>loan_amount</th>\n",
       "      <th>loan_term</th>\n",
       "      <th>cibil_score</th>\n",
       "      <th>total_assets</th>\n",
       "      <th>loan_status</th>\n",
       "    </tr>\n",
       "  </thead>\n",
       "  <tbody>\n",
       "    <tr>\n",
       "      <th>0</th>\n",
       "      <td>9600000</td>\n",
       "      <td>29900000</td>\n",
       "      <td>12</td>\n",
       "      <td>778</td>\n",
       "      <td>50700000</td>\n",
       "      <td>Approved</td>\n",
       "    </tr>\n",
       "    <tr>\n",
       "      <th>1</th>\n",
       "      <td>4100000</td>\n",
       "      <td>12200000</td>\n",
       "      <td>8</td>\n",
       "      <td>417</td>\n",
       "      <td>17000000</td>\n",
       "      <td>Rejected</td>\n",
       "    </tr>\n",
       "    <tr>\n",
       "      <th>2</th>\n",
       "      <td>9100000</td>\n",
       "      <td>29700000</td>\n",
       "      <td>20</td>\n",
       "      <td>506</td>\n",
       "      <td>57700000</td>\n",
       "      <td>Rejected</td>\n",
       "    </tr>\n",
       "    <tr>\n",
       "      <th>3</th>\n",
       "      <td>8200000</td>\n",
       "      <td>30700000</td>\n",
       "      <td>8</td>\n",
       "      <td>467</td>\n",
       "      <td>52700000</td>\n",
       "      <td>Rejected</td>\n",
       "    </tr>\n",
       "    <tr>\n",
       "      <th>4</th>\n",
       "      <td>9800000</td>\n",
       "      <td>24200000</td>\n",
       "      <td>20</td>\n",
       "      <td>382</td>\n",
       "      <td>55000000</td>\n",
       "      <td>Rejected</td>\n",
       "    </tr>\n",
       "    <tr>\n",
       "      <th>...</th>\n",
       "      <td>...</td>\n",
       "      <td>...</td>\n",
       "      <td>...</td>\n",
       "      <td>...</td>\n",
       "      <td>...</td>\n",
       "      <td>...</td>\n",
       "    </tr>\n",
       "    <tr>\n",
       "      <th>4264</th>\n",
       "      <td>1000000</td>\n",
       "      <td>2300000</td>\n",
       "      <td>12</td>\n",
       "      <td>317</td>\n",
       "      <td>7400000</td>\n",
       "      <td>Rejected</td>\n",
       "    </tr>\n",
       "    <tr>\n",
       "      <th>4265</th>\n",
       "      <td>3300000</td>\n",
       "      <td>11300000</td>\n",
       "      <td>20</td>\n",
       "      <td>559</td>\n",
       "      <td>20000000</td>\n",
       "      <td>Approved</td>\n",
       "    </tr>\n",
       "    <tr>\n",
       "      <th>4266</th>\n",
       "      <td>6500000</td>\n",
       "      <td>23900000</td>\n",
       "      <td>18</td>\n",
       "      <td>457</td>\n",
       "      <td>39000000</td>\n",
       "      <td>Rejected</td>\n",
       "    </tr>\n",
       "    <tr>\n",
       "      <th>4267</th>\n",
       "      <td>4100000</td>\n",
       "      <td>12800000</td>\n",
       "      <td>8</td>\n",
       "      <td>780</td>\n",
       "      <td>28800000</td>\n",
       "      <td>Approved</td>\n",
       "    </tr>\n",
       "    <tr>\n",
       "      <th>4268</th>\n",
       "      <td>9200000</td>\n",
       "      <td>29700000</td>\n",
       "      <td>10</td>\n",
       "      <td>607</td>\n",
       "      <td>77300000</td>\n",
       "      <td>Approved</td>\n",
       "    </tr>\n",
       "  </tbody>\n",
       "</table>\n",
       "<p>4269 rows × 6 columns</p>\n",
       "</div>"
      ],
      "text/plain": [
       "      income_annum  loan_amount  loan_term  cibil_score  total_assets  \\\n",
       "0          9600000     29900000         12          778      50700000   \n",
       "1          4100000     12200000          8          417      17000000   \n",
       "2          9100000     29700000         20          506      57700000   \n",
       "3          8200000     30700000          8          467      52700000   \n",
       "4          9800000     24200000         20          382      55000000   \n",
       "...            ...          ...        ...          ...           ...   \n",
       "4264       1000000      2300000         12          317       7400000   \n",
       "4265       3300000     11300000         20          559      20000000   \n",
       "4266       6500000     23900000         18          457      39000000   \n",
       "4267       4100000     12800000          8          780      28800000   \n",
       "4268       9200000     29700000         10          607      77300000   \n",
       "\n",
       "     loan_status  \n",
       "0       Approved  \n",
       "1       Rejected  \n",
       "2       Rejected  \n",
       "3       Rejected  \n",
       "4       Rejected  \n",
       "...          ...  \n",
       "4264    Rejected  \n",
       "4265    Approved  \n",
       "4266    Rejected  \n",
       "4267    Approved  \n",
       "4268    Approved  \n",
       "\n",
       "[4269 rows x 6 columns]"
      ]
     },
     "execution_count": 201,
     "metadata": {},
     "output_type": "execute_result"
    }
   ],
   "source": [
    "data"
   ]
  },
  {
   "cell_type": "code",
   "execution_count": null,
   "id": "a77c4f16",
   "metadata": {},
   "outputs": [],
   "source": []
  }
 ],
 "metadata": {
  "kernelspec": {
   "display_name": "Python 3 (ipykernel)",
   "language": "python",
   "name": "python3"
  },
  "language_info": {
   "codemirror_mode": {
    "name": "ipython",
    "version": 3
   },
   "file_extension": ".py",
   "mimetype": "text/x-python",
   "name": "python",
   "nbconvert_exporter": "python",
   "pygments_lexer": "ipython3",
   "version": "3.9.13"
  }
 },
 "nbformat": 4,
 "nbformat_minor": 5
}
