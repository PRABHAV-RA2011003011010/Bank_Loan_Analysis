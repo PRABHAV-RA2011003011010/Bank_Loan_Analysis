{
 "cells": [
  {
   "cell_type": "code",
   "execution_count": 1,
   "id": "5f9e6a70",
   "metadata": {},
   "outputs": [
    {
     "ename": "",
     "evalue": "",
     "output_type": "error",
     "traceback": [
      "\u001b[1;31mThe kernel failed to start as a dll could not be loaded.\n",
      "\u001b[1;31mClick <a href='https://aka.ms/kernelFailuresDllLoad'>here</a> for more info."
     ]
    }
   ],
   "source": [
    "\n",
    "import numpy as np\n",
    "import matplotlib.pyplot as plt\n",
    "import seaborn as sns\n",
    "import pandas as pd"
   ]
  },
  {
   "cell_type": "markdown",
   "id": "335a6dcc",
   "metadata": {},
   "source": [
    "# 1.Data_Collection"
   ]
  },
  {
   "cell_type": "code",
   "execution_count": null,
   "id": "c07b88ed",
   "metadata": {},
   "outputs": [],
   "source": [
    "loan_data=pd.read_csv('loan_approval_data.csv')\n",
    "loan_data"
   ]
  },
  {
   "cell_type": "code",
   "execution_count": null,
   "id": "10863e4d",
   "metadata": {},
   "outputs": [],
   "source": [
    "data=loan_data[['income_annum','loan_amount','loan_term','cibil_score','residential_assets_value','commercial_assets_value','luxury_assets_value','bank_asset_value']]\n",
    "data"
   ]
  },
  {
   "cell_type": "code",
   "execution_count": null,
   "id": "572e23dc",
   "metadata": {},
   "outputs": [],
   "source": [
    "data['total_assets']=data['residential_assets_value']+data['commercial_assets_value']+data['luxury_assets_value']+data['bank_asset_value']\n",
    "data"
   ]
  },
  {
   "cell_type": "code",
   "execution_count": 5,
   "id": "7fdb7292",
   "metadata": {},
   "outputs": [],
   "source": [
    "data=data.drop(columns=['residential_assets_value','commercial_assets_value','luxury_assets_value','bank_asset_value'])"
   ]
  },
  {
   "cell_type": "code",
   "execution_count": null,
   "id": "cb076fdf",
   "metadata": {},
   "outputs": [],
   "source": [
    "data\n"
   ]
  },
  {
   "cell_type": "code",
   "execution_count": null,
   "id": "ce91ff13",
   "metadata": {},
   "outputs": [],
   "source": [
    "data['loan_status']=loan_data['loan_status']\n",
    "data"
   ]
  },
  {
   "cell_type": "markdown",
   "id": "bb197f0d",
   "metadata": {},
   "source": [
    "# 2.Data_Preprosessing"
   ]
  },
  {
   "cell_type": "code",
   "execution_count": null,
   "id": "98d27b7b",
   "metadata": {},
   "outputs": [],
   "source": [
    "data.isnull().sum()"
   ]
  },
  {
   "cell_type": "code",
   "execution_count": null,
   "id": "5aa2d106",
   "metadata": {},
   "outputs": [],
   "source": [
    "data.duplicated().sum()"
   ]
  },
  {
   "cell_type": "code",
   "execution_count": null,
   "id": "04266f20",
   "metadata": {},
   "outputs": [],
   "source": [
    "data.describe()"
   ]
  },
  {
   "cell_type": "code",
   "execution_count": null,
   "id": "947aafff",
   "metadata": {},
   "outputs": [],
   "source": []
  },
  {
   "cell_type": "markdown",
   "id": "1d8736fa",
   "metadata": {},
   "source": [
    "# 3. Exploratory Data Analysis (EDA)"
   ]
  },
  {
   "cell_type": "code",
   "execution_count": null,
   "id": "f6f4d01e",
   "metadata": {},
   "outputs": [],
   "source": [
    "plt.figure(figsize=(16,10))\n",
    "plt.subplot(2,3,1)\n",
    "sns.distplot(data['income_annum'])\n",
    "\n",
    "plt.subplot(2,3,2)\n",
    "sns.distplot(data['loan_amount'])\n",
    "\n",
    "plt.subplot(2,3,3)\n",
    "sns.distplot(data['loan_term'])\n",
    "\n",
    "plt.subplot(2,3,4)\n",
    "sns.distplot(data['cibil_score'])\n",
    "\n",
    "plt.subplot(2,3,5)\n",
    "sns.distplot(data['total_assets'])\n",
    "\n",
    "plt.show()\n"
   ]
  },
  {
   "cell_type": "code",
   "execution_count": null,
   "id": "bc0c75c0",
   "metadata": {},
   "outputs": [],
   "source": [
    "#data['income_annum'].skew()\n",
    "#data['loan_amount'].skew()\n",
    "#data['loan_term'].skew()\n",
    "#data['cibil_score'].skew()\n",
    "#data['total_assets'].skew()\n",
    "\n",
    "data['total_assets'].skew()"
   ]
  },
  {
   "cell_type": "code",
   "execution_count": null,
   "id": "22635b52",
   "metadata": {},
   "outputs": [],
   "source": [
    "#Both loan_amount and total_assets are right skewed,so checking for outliers\n",
    "plt.figure(figsize=(16,10))\n",
    "plt.subplot(2,1,1)\n",
    "sns.boxplot(data['loan_amount'])\n",
    "plt.subplot(2,1,2)\n",
    "sns.boxplot(data['total_assets'])\n"
   ]
  },
  {
   "cell_type": "markdown",
   "id": "874f991d",
   "metadata": {},
   "source": [
    "# 4. Data Preparation"
   ]
  },
  {
   "cell_type": "code",
   "execution_count": null,
   "id": "cf58eecd",
   "metadata": {},
   "outputs": [],
   "source": [
    "X=data.iloc[:,0:5]\n",
    "y=data.iloc[:,-1]\n",
    "y"
   ]
  },
  {
   "cell_type": "code",
   "execution_count": 15,
   "id": "07b14758",
   "metadata": {},
   "outputs": [],
   "source": [
    "from sklearn.model_selection import train_test_split\n",
    "X_train,X_test,y_train,y_test= train_test_split(data.iloc[:,0:5],data.iloc[:,-1],test_size=0.2,random_state=20)"
   ]
  },
  {
   "cell_type": "code",
   "execution_count": null,
   "id": "3623beb1",
   "metadata": {},
   "outputs": [],
   "source": [
    "y_test"
   ]
  },
  {
   "cell_type": "code",
   "execution_count": null,
   "id": "9d953143",
   "metadata": {},
   "outputs": [],
   "source": [
    "from sklearn.preprocessing import LabelEncoder\n",
    "le=LabelEncoder()\n",
    "le.fit(y_train)"
   ]
  },
  {
   "cell_type": "code",
   "execution_count": 18,
   "id": "4c5a8749",
   "metadata": {},
   "outputs": [],
   "source": [
    "y_train_le=le.transform(y_train)\n",
    "y_test_le=le.transform(y_test)"
   ]
  },
  {
   "cell_type": "code",
   "execution_count": null,
   "id": "50a9d8cf",
   "metadata": {},
   "outputs": [],
   "source": [
    "y_test_le"
   ]
  },
  {
   "cell_type": "code",
   "execution_count": 20,
   "id": "987d7780",
   "metadata": {},
   "outputs": [],
   "source": [
    "from sklearn.preprocessing import StandardScaler\n",
    "scaler=StandardScaler()\n",
    "scaler.fit(X_train)\n",
    "\n",
    "X_train_scaled=scaler.transform(X_train)\n",
    "X_test_scaled=scaler.transform(X_test)"
   ]
  },
  {
   "cell_type": "code",
   "execution_count": 21,
   "id": "13bcf77c",
   "metadata": {},
   "outputs": [],
   "source": [
    "X_train_scaled=pd.DataFrame(X_train_scaled,columns=X_train.columns)\n",
    "X_test_scaled=pd.DataFrame(X_test_scaled,columns=X_test.columns)\n"
   ]
  },
  {
   "cell_type": "code",
   "execution_count": null,
   "id": "89556bcf",
   "metadata": {},
   "outputs": [],
   "source": [
    "X_train_scaled"
   ]
  },
  {
   "cell_type": "code",
   "execution_count": null,
   "id": "ebc844d5",
   "metadata": {},
   "outputs": [],
   "source": [
    "plt.figure(figsize=(16,10))\n",
    "plt.subplot(2,3,1)\n",
    "sns.distplot(X_train_scaled['income_annum'])\n",
    "\n",
    "plt.subplot(2,3,2)\n",
    "sns.distplot(X_train_scaled['loan_amount'])\n",
    "\n",
    "plt.subplot(2,3,3)\n",
    "sns.distplot(X_train_scaled['loan_term'])\n",
    "\n",
    "plt.subplot(2,3,4)\n",
    "sns.distplot(X_train_scaled['cibil_score'])\n",
    "\n",
    "plt.subplot(2,3,5)\n",
    "sns.distplot(X_train_scaled['total_assets'])\n",
    "\n",
    "\n",
    "\n",
    "plt.show()\n"
   ]
  },
  {
   "cell_type": "code",
   "execution_count": null,
   "id": "8093b00d",
   "metadata": {},
   "outputs": [],
   "source": [
    "np.round(X_train_scaled.describe(),2)"
   ]
  },
  {
   "cell_type": "markdown",
   "id": "011fd786",
   "metadata": {},
   "source": [
    "# 5. Model Selection And Evaluation"
   ]
  },
  {
   "cell_type": "code",
   "execution_count": 25,
   "id": "08ce206e",
   "metadata": {},
   "outputs": [],
   "source": [
    "from sklearn.linear_model import LogisticRegression\n",
    "lr=LogisticRegression()\n"
   ]
  },
  {
   "cell_type": "code",
   "execution_count": null,
   "id": "cdb75366",
   "metadata": {},
   "outputs": [],
   "source": [
    "lr.fit(X_train_scaled,y_train_le)"
   ]
  },
  {
   "cell_type": "code",
   "execution_count": 27,
   "id": "4ec663de",
   "metadata": {},
   "outputs": [],
   "source": [
    "y_predict=lr.predict(X_test_scaled)"
   ]
  },
  {
   "cell_type": "code",
   "execution_count": 28,
   "id": "d3785b9b",
   "metadata": {},
   "outputs": [],
   "source": [
    "from sklearn.metrics import accuracy_score"
   ]
  },
  {
   "cell_type": "code",
   "execution_count": null,
   "id": "b21a4ed2",
   "metadata": {},
   "outputs": [],
   "source": [
    "print(accuracy_score(y_test_le,y_predict))"
   ]
  },
  {
   "cell_type": "code",
   "execution_count": 30,
   "id": "18468c28",
   "metadata": {},
   "outputs": [],
   "source": [
    "from sklearn.model_selection import cross_val_score\n",
    "lr_cross=np.mean(cross_val_score(lr, X, y, cv=10, scoring='accuracy'))"
   ]
  },
  {
   "cell_type": "code",
   "execution_count": null,
   "id": "66ff523b",
   "metadata": {},
   "outputs": [],
   "source": [
    "from sklearn.tree import DecisionTreeClassifier\n",
    "dt_model = DecisionTreeClassifier(random_state=10)\n",
    "dt_model.fit(X_train_scaled,y_train_le)\n",
    "dt_predictions = dt_model.predict(X_test_scaled)\n",
    "dt_accuracy = accuracy_score(y_test_le, dt_predictions)\n",
    "print(f\"Decision Tree Accuracy: {dt_accuracy}\")"
   ]
  },
  {
   "cell_type": "code",
   "execution_count": 32,
   "id": "f1886866",
   "metadata": {},
   "outputs": [],
   "source": [
    "dt_cross=np.mean(cross_val_score(dt_model, X, y, cv=10, scoring='accuracy'))"
   ]
  },
  {
   "cell_type": "code",
   "execution_count": null,
   "id": "66859d44",
   "metadata": {},
   "outputs": [],
   "source": [
    "from sklearn.ensemble import RandomForestClassifier\n",
    "rf_model = RandomForestClassifier(random_state=10)\n",
    "rf_model.fit(X_train_scaled,y_train_le)\n",
    "rf_predictions = rf_model.predict(X_test_scaled)\n",
    "rf_accuracy = accuracy_score(y_test_le, rf_predictions)\n",
    "print(f\"Random Forest Accuracy: {rf_accuracy}\")"
   ]
  },
  {
   "cell_type": "code",
   "execution_count": 34,
   "id": "035b3bec",
   "metadata": {},
   "outputs": [],
   "source": [
    "rf_cross=np.mean(cross_val_score(rf_model, X, y, cv=10, scoring='accuracy'))"
   ]
  },
  {
   "cell_type": "code",
   "execution_count": null,
   "id": "9e243012",
   "metadata": {},
   "outputs": [],
   "source": [
    "from sklearn.ensemble import GradientBoostingClassifier\n",
    "gb_model = GradientBoostingClassifier(random_state=10)\n",
    "gb_model.fit(X_train_scaled,y_train_le)\n",
    "gb_predictions = gb_model.predict(X_test_scaled)\n",
    "gb_accuracy = accuracy_score(y_test_le, gb_predictions)\n",
    "print(f\"Gradient Boosting Accuracy: {gb_accuracy}\")"
   ]
  },
  {
   "cell_type": "code",
   "execution_count": 36,
   "id": "5dc95f74",
   "metadata": {},
   "outputs": [],
   "source": [
    "gb_cross=np.mean(cross_val_score(gb_model, X, y, cv=10, scoring='accuracy'))"
   ]
  },
  {
   "cell_type": "code",
   "execution_count": null,
   "id": "4f7653d5",
   "metadata": {},
   "outputs": [],
   "source": [
    "from sklearn.svm import SVC\n",
    "svm_model = SVC(random_state=10)\n",
    "svm_model.fit(X_train_scaled,y_train_le)\n",
    "svm_predictions = svm_model.predict(X_test_scaled)\n",
    "svm_accuracy = accuracy_score(y_test_le, svm_predictions)\n",
    "print(f\"SVM Accuracy: {svm_accuracy}\")"
   ]
  },
  {
   "cell_type": "code",
   "execution_count": 38,
   "id": "39b91a4d",
   "metadata": {},
   "outputs": [],
   "source": [
    "svm_cross=np.mean(cross_val_score(svm_model, X, y, cv=10, scoring='accuracy'))"
   ]
  },
  {
   "cell_type": "code",
   "execution_count": null,
   "id": "9f83c323",
   "metadata": {},
   "outputs": [],
   "source": [
    "from sklearn.naive_bayes import GaussianNB\n",
    "nb_model = GaussianNB()\n",
    "nb_model.fit(X_train_scaled,y_train_le)\n",
    "nb_predictions = nb_model.predict(X_test_scaled)\n",
    "nb_accuracy = accuracy_score(y_test_le, nb_predictions)\n",
    "print(f\"Naive Bayes Accuracy: {nb_accuracy}\")"
   ]
  },
  {
   "cell_type": "code",
   "execution_count": 40,
   "id": "183f572f",
   "metadata": {},
   "outputs": [],
   "source": [
    "nb_cross=np.mean(cross_val_score(nb_model, X, y, cv=10, scoring='accuracy'))"
   ]
  },
  {
   "cell_type": "code",
   "execution_count": null,
   "id": "b75b9fc9",
   "metadata": {},
   "outputs": [],
   "source": [
    "#Accuracies Of All Algorithms After Cross Validation\n",
    "print(f\"Logistic Regression Accuracy: {lr_cross}\")\n",
    "print(f\"Decision Tree Accuracy: {dt_cross}\")\n",
    "print(f\"Random Forest Accuracy: {rf_cross}\")\n",
    "print(f\"Gradient Boosting Accuracy: {gb_cross}\")\n",
    "print(f\"SVM Accuracy: {svm_cross}\")\n",
    "print(f\"Naive Bayes Accuracy: {nb_cross}\")\n",
    "\n"
   ]
  },
  {
   "cell_type": "markdown",
   "id": "2cfe757a",
   "metadata": {},
   "source": [
    "# 6. Hyperparameter Tuning Using GridSearchCV\n",
    "## 1. Random Forest"
   ]
  },
  {
   "cell_type": "code",
   "execution_count": 42,
   "id": "afe4d5ad",
   "metadata": {},
   "outputs": [],
   "source": [
    "n_estimators=[20,60,100,120]\n",
    "max_features=[0.2,0.6,1.0]\n",
    "max_depth=[2,8,None]\n",
    "max_samples=[0.5,0.75,1.0]\n"
   ]
  },
  {
   "cell_type": "code",
   "execution_count": null,
   "id": "ea5b5e64",
   "metadata": {},
   "outputs": [],
   "source": [
    "param_grid={'n_estimators':n_estimators,\n",
    "            'max_features':max_features,\n",
    "            'max_depth':max_depth,\n",
    "            'max_samples':max_samples\n",
    "    \n",
    "}\n",
    "print(param_grid)"
   ]
  },
  {
   "cell_type": "code",
   "execution_count": 44,
   "id": "0f5e8ae7",
   "metadata": {},
   "outputs": [],
   "source": [
    "from sklearn.model_selection import GridSearchCV\n",
    "\n",
    "rf_grid=GridSearchCV(estimator=rf_model,param_grid=param_grid,cv=5,verbose=2,n_jobs=-1)"
   ]
  },
  {
   "cell_type": "code",
   "execution_count": null,
   "id": "92b3714d",
   "metadata": {},
   "outputs": [],
   "source": [
    "rf_grid.fit(X_train_scaled,y_train_le)"
   ]
  },
  {
   "cell_type": "code",
   "execution_count": null,
   "id": "57beeb3f",
   "metadata": {},
   "outputs": [],
   "source": [
    "rf_grid.best_params_"
   ]
  },
  {
   "cell_type": "code",
   "execution_count": null,
   "id": "54c43a9d",
   "metadata": {},
   "outputs": [],
   "source": [
    "rf_grid.best_score_"
   ]
  },
  {
   "cell_type": "code",
   "execution_count": null,
   "id": "34e94e25",
   "metadata": {},
   "outputs": [],
   "source": [
    "from sklearn.ensemble import RandomForestClassifier\n",
    "rf_final_model = RandomForestClassifier(n_estimators=100, max_depth=None,max_features=1.0, random_state=10,max_samples=1.0)\n",
    "rf_final_model.fit(X_train_scaled,y_train_le)\n",
    "rf_final_predictions = rf_final_model.predict(X_test_scaled)\n",
    "rf_final_accuracy = accuracy_score(y_test_le, rf_final_predictions)\n",
    "print(f\"Random Forest Accuracy After Tuning: {rf_final_accuracy}\")"
   ]
  },
  {
   "cell_type": "code",
   "execution_count": null,
   "id": "30673c36",
   "metadata": {},
   "outputs": [],
   "source": [
    "rf_final_cross=np.mean(cross_val_score(rf_final_model, X, y, cv=10, scoring='accuracy'))\n",
    "print(f\"Random Forest Final Accuracy After Tuning And Cross Validation: {rf_final_cross}\")"
   ]
  },
  {
   "cell_type": "markdown",
   "id": "bd8f2aba",
   "metadata": {},
   "source": [
    "## 2. Decision Tree"
   ]
  },
  {
   "cell_type": "code",
   "execution_count": 50,
   "id": "f812a607",
   "metadata": {},
   "outputs": [],
   "source": [
    "param_grid_dt = {\n",
    "    'max_depth': [None, 10, 20, 30, 40, 50],\n",
    "    'min_samples_split': [2, 5, 10, 20],\n",
    "    'min_samples_leaf': [1, 2, 5, 10, 20],\n",
    "    'max_features': [None, 'auto', 'sqrt', 'log2'],\n",
    "    'criterion': ['gini', 'entropy'],\n",
    "    'splitter': ['best', 'random']\n",
    "}"
   ]
  },
  {
   "cell_type": "code",
   "execution_count": 51,
   "id": "5be9859a",
   "metadata": {},
   "outputs": [],
   "source": [
    "dt_grid=GridSearchCV(estimator=dt_model,param_grid=param_grid_dt,cv=5,verbose=2,n_jobs=-1)"
   ]
  },
  {
   "cell_type": "code",
   "execution_count": null,
   "id": "dc1e2f75",
   "metadata": {},
   "outputs": [],
   "source": [
    "dt_grid.fit(X_train_scaled,y_train_le)"
   ]
  },
  {
   "cell_type": "code",
   "execution_count": null,
   "id": "b0c3c9a4",
   "metadata": {},
   "outputs": [],
   "source": [
    "dt_grid.best_params_"
   ]
  },
  {
   "cell_type": "code",
   "execution_count": null,
   "id": "1ee90a8c",
   "metadata": {},
   "outputs": [],
   "source": [
    "dt_grid.best_score_"
   ]
  },
  {
   "cell_type": "markdown",
   "id": "df5a65fe",
   "metadata": {},
   "source": [
    "# 7. Model Testing"
   ]
  },
  {
   "cell_type": "code",
   "execution_count": 55,
   "id": "a80d95ef",
   "metadata": {},
   "outputs": [],
   "source": [
    "def check_status(ia,la,lt,cs,ta):\n",
    "    \n",
    "    input_data = pd.DataFrame({\n",
    "        'income_annum': [ia],\n",
    "        'loan_amount': [la],\n",
    "        'loan_term': [lt],\n",
    "        'cibil_score': [cs],\n",
    "        'total_assets': [ta]\n",
    "    })\n",
    "    standardized_data = scaler.transform(input_data)\n",
    "    prediction = rf_final_model.predict(standardized_data)\n",
    "    \n",
    "    return 'Approved' if prediction[0] == 0 else 'Rejected'\n",
    "\n",
    "\n",
    "\n"
   ]
  },
  {
   "cell_type": "code",
   "execution_count": null,
   "id": "8b6b8e2c",
   "metadata": {},
   "outputs": [],
   "source": [
    "\n",
    "income_annum = int(input(\"Enter annual income: \"))\n",
    "loan_amount = int(input(\"Enter loan amount: \"))\n",
    "loan_term = int(input(\"Enter loan term: \"))\n",
    "cibil_score = int(input(\"Enter CIBIL score: \"))\n",
    "total_assets = int(input(\"Enter total assets: \"))\n",
    "\n",
    "\n",
    "placement_prediction = check_status(income_annum,loan_amount,loan_term,cibil_score,total_assets)\n",
    "print(placement_prediction)\n"
   ]
  },
  {
   "cell_type": "code",
   "execution_count": null,
   "id": "6dda5c71",
   "metadata": {},
   "outputs": [],
   "source": [
    "data"
   ]
  },
  {
   "cell_type": "code",
   "execution_count": null,
   "id": "f8c75bd9",
   "metadata": {},
   "outputs": [],
   "source": [
    "import joblib\n",
    "\n",
    "\n",
    "joblib.dump(rf_final_model, 'rf_final_model.joblib')"
   ]
  },
  {
   "cell_type": "code",
   "execution_count": null,
   "id": "6c1f0427",
   "metadata": {},
   "outputs": [],
   "source": [
    "joblib.dump(scaler, 'scaler.joblib')\n"
   ]
  },
  {
   "cell_type": "code",
   "execution_count": 2,
   "id": "f12dc6fc",
   "metadata": {},
   "outputs": [
    {
     "name": "stdout",
     "output_type": "stream",
     "text": [
      "Name: scikit-learn\n",
      "Version: 1.0.2\n",
      "Summary: A set of python modules for machine learning and data mining\n",
      "Home-page: http://scikit-learn.org\n",
      "Author: \n",
      "Author-email: \n",
      "License: new BSD\n",
      "Location: c:\\users\\prabh\\anaconda3\\lib\\site-packages\n",
      "Requires: joblib, numpy, scipy, threadpoolctl\n",
      "Required-by: scikit-learn-intelex\n",
      "Name: joblib\n",
      "Version: 1.1.0\n",
      "Summary: Lightweight pipelining with Python functions\n",
      "Home-page: https://joblib.readthedocs.io\n",
      "Author: Gael Varoquaux\n",
      "Author-email: gael.varoquaux@normalesup.org\n",
      "License: BSD\n",
      "Location: c:\\users\\prabh\\anaconda3\\lib\\site-packages\n",
      "Requires: \n",
      "Required-by: nltk, scikit-learn\n",
      "Name: numpy\n",
      "Version: 1.24.0\n",
      "Summary: Fundamental package for array computing in Python\n",
      "Home-page: https://www.numpy.org\n",
      "Author: Travis E. Oliphant et al.\n",
      "Author-email: \n",
      "License: BSD-3-Clause\n",
      "Location: c:\\users\\prabh\\anaconda3\\lib\\site-packages\n",
      "Requires: \n",
      "Required-by: astropy, bkcharts, bokeh, Bottleneck, daal4py, datashader, datashape, gensim, h5py, holoviews, hvplot, imagecodecs, imageio, matplotlib, mkl-fft, mkl-random, numba, numexpr, pandas, patsy, pyarrow, pydeck, pyerfa, PyWavelets, scikit-image, scikit-learn, scipy, seaborn, statsmodels, streamlit, tables, tifffile, xarray\n"
     ]
    }
   ],
   "source": [
    "!pip show scikit-learn \n",
    "!pip show joblib\n",
    "!pip show numpy\n",
    "\n",
    "\n",
    "\n",
    "\n"
   ]
  }
 ],
 "metadata": {
  "kernelspec": {
   "display_name": "base",
   "language": "python",
   "name": "python3"
  },
  "language_info": {
   "codemirror_mode": {
    "name": "ipython",
    "version": 3
   },
   "file_extension": ".py",
   "mimetype": "text/x-python",
   "name": "python",
   "nbconvert_exporter": "python",
   "pygments_lexer": "ipython3",
   "version": "3.9.13"
  }
 },
 "nbformat": 4,
 "nbformat_minor": 5
}
